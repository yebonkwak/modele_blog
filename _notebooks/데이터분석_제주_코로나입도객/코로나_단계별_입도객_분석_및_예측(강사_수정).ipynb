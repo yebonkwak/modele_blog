{
  "nbformat": 4,
  "nbformat_minor": 0,
  "metadata": {
    "colab": {
      "name": "코로나_단계별_입도객_분석_및_예측(강사 수정).ipynb",
      "provenance": [],
      "collapsed_sections": []
    },
    "kernelspec": {
      "name": "python3",
      "display_name": "Python 3"
    },
    "language_info": {
      "name": "python"
    }
  },
  "cells": [
    {
      "cell_type": "markdown",
      "metadata": {
        "id": "RW6-Ybmt81qr"
      },
      "source": [
        "# \"코로나 단계별 제주도 입도객 분석 및 예측\"\n",
        "> \"제주도 코로나19 사회적 거리두기에 따른 입도객 추이 분석 및 예측\"\n",
        "\n",
        "- toc: true\n",
        "- branch: master\n",
        "- badges: true\n",
        "- comments: true\n",
        "- author: 곽예본, 김진교, 이채원\n",
        "- categories: [analysis]"
      ]
    },
    {
      "cell_type": "markdown",
      "metadata": {
        "id": "G3IOYM93jm-L"
      },
      "source": [
        "## 한글폰트"
      ]
    },
    {
      "cell_type": "code",
      "metadata": {
        "colab": {
          "base_uri": "https://localhost:8080/"
        },
        "id": "lkS-KtFajpGV",
        "outputId": "5d5d27c9-2235-4918-a494-df335afee342"
      },
      "source": [
        "!sudo apt install -y fonts-nanum*\n",
        "!sudo fc-cache -fv\n",
        "!rm ~/.cache/matplotlib -rf"
      ],
      "execution_count": 123,
      "outputs": [
        {
          "output_type": "stream",
          "text": [
            "Reading package lists... Done\n",
            "Building dependency tree       \n",
            "Reading state information... Done\n",
            "Note, selecting 'fonts-nanum-eco' for glob 'fonts-nanum*'\n",
            "Note, selecting 'fonts-nanum' for glob 'fonts-nanum*'\n",
            "Note, selecting 'fonts-nanum-gothic-light' for glob 'fonts-nanum*'\n",
            "Note, selecting 'fonts-nanum-coding' for glob 'fonts-nanum*'\n",
            "Note, selecting 'fonts-nanum-extra' for glob 'fonts-nanum*'\n",
            "The following NEW packages will be installed:\n",
            "  fonts-nanum fonts-nanum-coding fonts-nanum-eco fonts-nanum-extra\n",
            "0 upgraded, 4 newly installed, 0 to remove and 40 not upgraded.\n",
            "Need to get 37.0 MB of archives.\n",
            "After this operation, 145 MB of additional disk space will be used.\n",
            "Get:1 http://archive.ubuntu.com/ubuntu bionic/universe amd64 fonts-nanum all 20170925-1 [9,604 kB]\n",
            "Get:2 http://archive.ubuntu.com/ubuntu bionic/universe amd64 fonts-nanum-eco all 1.000-6 [14.0 MB]\n",
            "Get:3 http://archive.ubuntu.com/ubuntu bionic/universe amd64 fonts-nanum-extra all 20170925-1 [12.2 MB]\n",
            "Get:4 http://archive.ubuntu.com/ubuntu bionic/universe amd64 fonts-nanum-coding all 2.5-1 [1,083 kB]\n",
            "Fetched 37.0 MB in 3s (12.4 MB/s)\n",
            "debconf: unable to initialize frontend: Dialog\n",
            "debconf: (No usable dialog-like program is installed, so the dialog based frontend cannot be used. at /usr/share/perl5/Debconf/FrontEnd/Dialog.pm line 76, <> line 4.)\n",
            "debconf: falling back to frontend: Readline\n",
            "debconf: unable to initialize frontend: Readline\n",
            "debconf: (This frontend requires a controlling tty.)\n",
            "debconf: falling back to frontend: Teletype\n",
            "dpkg-preconfigure: unable to re-open stdin: \n",
            "Selecting previously unselected package fonts-nanum.\n",
            "(Reading database ... 160837 files and directories currently installed.)\n",
            "Preparing to unpack .../fonts-nanum_20170925-1_all.deb ...\n",
            "Unpacking fonts-nanum (20170925-1) ...\n",
            "Selecting previously unselected package fonts-nanum-eco.\n",
            "Preparing to unpack .../fonts-nanum-eco_1.000-6_all.deb ...\n",
            "Unpacking fonts-nanum-eco (1.000-6) ...\n",
            "Selecting previously unselected package fonts-nanum-extra.\n",
            "Preparing to unpack .../fonts-nanum-extra_20170925-1_all.deb ...\n",
            "Unpacking fonts-nanum-extra (20170925-1) ...\n",
            "Selecting previously unselected package fonts-nanum-coding.\n",
            "Preparing to unpack .../fonts-nanum-coding_2.5-1_all.deb ...\n",
            "Unpacking fonts-nanum-coding (2.5-1) ...\n",
            "Setting up fonts-nanum-extra (20170925-1) ...\n",
            "Setting up fonts-nanum (20170925-1) ...\n",
            "Setting up fonts-nanum-coding (2.5-1) ...\n",
            "Setting up fonts-nanum-eco (1.000-6) ...\n",
            "Processing triggers for fontconfig (2.12.6-0ubuntu2) ...\n",
            "/usr/share/fonts: caching, new cache contents: 0 fonts, 1 dirs\n",
            "/usr/share/fonts/truetype: caching, new cache contents: 0 fonts, 3 dirs\n",
            "/usr/share/fonts/truetype/humor-sans: caching, new cache contents: 1 fonts, 0 dirs\n",
            "/usr/share/fonts/truetype/liberation: caching, new cache contents: 16 fonts, 0 dirs\n",
            "/usr/share/fonts/truetype/nanum: caching, new cache contents: 31 fonts, 0 dirs\n",
            "/usr/local/share/fonts: caching, new cache contents: 0 fonts, 0 dirs\n",
            "/root/.local/share/fonts: skipping, no such directory\n",
            "/root/.fonts: skipping, no such directory\n",
            "/var/cache/fontconfig: cleaning cache directory\n",
            "/root/.cache/fontconfig: not cleaning non-existent cache directory\n",
            "/root/.fontconfig: not cleaning non-existent cache directory\n",
            "fc-cache: succeeded\n"
          ],
          "name": "stdout"
        }
      ]
    },
    {
      "cell_type": "code",
      "metadata": {
        "id": "TaIgckrSj238"
      },
      "source": [
        "import matplotlib.pyplot as plt\n",
        "\n",
        "plt.rc('font', family='NanumBarunGothic')"
      ],
      "execution_count": 1,
      "outputs": []
    },
    {
      "cell_type": "markdown",
      "metadata": {
        "id": "u_ChooiUXE2t"
      },
      "source": [
        "## Facebook의 Prophet 모델을 사용한 입도객 예측"
      ]
    },
    {
      "cell_type": "code",
      "metadata": {
        "id": "JcPCyOZi4TT3"
      },
      "source": [
        "import matplotlib.pyplot as plt\n",
        "import numpy as np\n",
        "import pandas as pd\n",
        "import seaborn as sns\n",
        "from fbprophet import Prophet"
      ],
      "execution_count": 4,
      "outputs": []
    },
    {
      "cell_type": "code",
      "metadata": {
        "id": "1G-d4PN6i3vQ"
      },
      "source": [
        "import warnings\n",
        "\n",
        "warnings.filterwarnings(action='ignore')"
      ],
      "execution_count": null,
      "outputs": []
    },
    {
      "cell_type": "code",
      "metadata": {
        "id": "-J4sWJLfBlw4"
      },
      "source": [
        "df = pd.read_csv('visitor.csv')"
      ],
      "execution_count": null,
      "outputs": []
    },
    {
      "cell_type": "code",
      "metadata": {
        "colab": {
          "base_uri": "https://localhost:8080/",
          "height": 573
        },
        "id": "gzutb9EBREBM",
        "outputId": "c6b67ca1-0d12-4843-c9e2-971a339f3f39"
      },
      "source": [
        "df"
      ],
      "execution_count": null,
      "outputs": [
        {
          "output_type": "execute_result",
          "data": {
            "text/html": [
              "<div>\n",
              "<style scoped>\n",
              "    .dataframe tbody tr th:only-of-type {\n",
              "        vertical-align: middle;\n",
              "    }\n",
              "\n",
              "    .dataframe tbody tr th {\n",
              "        vertical-align: top;\n",
              "    }\n",
              "\n",
              "    .dataframe thead th {\n",
              "        text-align: right;\n",
              "    }\n",
              "</style>\n",
              "<table border=\"1\" class=\"dataframe\">\n",
              "  <thead>\n",
              "    <tr style=\"text-align: right;\">\n",
              "      <th></th>\n",
              "      <th>time</th>\n",
              "      <th>visitor</th>\n",
              "    </tr>\n",
              "  </thead>\n",
              "  <tbody>\n",
              "    <tr>\n",
              "      <th>0</th>\n",
              "      <td>2020-01-01</td>\n",
              "      <td>1104438</td>\n",
              "    </tr>\n",
              "    <tr>\n",
              "      <th>1</th>\n",
              "      <td>2020-02-01</td>\n",
              "      <td>599575</td>\n",
              "    </tr>\n",
              "    <tr>\n",
              "      <th>2</th>\n",
              "      <td>2020-03-01</td>\n",
              "      <td>477176</td>\n",
              "    </tr>\n",
              "    <tr>\n",
              "      <th>3</th>\n",
              "      <td>2020-04-01</td>\n",
              "      <td>541099</td>\n",
              "    </tr>\n",
              "    <tr>\n",
              "      <th>4</th>\n",
              "      <td>2020-05-01</td>\n",
              "      <td>765616</td>\n",
              "    </tr>\n",
              "    <tr>\n",
              "      <th>5</th>\n",
              "      <td>2020-06-01</td>\n",
              "      <td>860528</td>\n",
              "    </tr>\n",
              "    <tr>\n",
              "      <th>6</th>\n",
              "      <td>2020-07-01</td>\n",
              "      <td>988093</td>\n",
              "    </tr>\n",
              "    <tr>\n",
              "      <th>7</th>\n",
              "      <td>2020-08-01</td>\n",
              "      <td>1127098</td>\n",
              "    </tr>\n",
              "    <tr>\n",
              "      <th>8</th>\n",
              "      <td>2020-09-01</td>\n",
              "      <td>726169</td>\n",
              "    </tr>\n",
              "    <tr>\n",
              "      <th>9</th>\n",
              "      <td>2020-10-01</td>\n",
              "      <td>1072455</td>\n",
              "    </tr>\n",
              "    <tr>\n",
              "      <th>10</th>\n",
              "      <td>2020-11-01</td>\n",
              "      <td>1138369</td>\n",
              "    </tr>\n",
              "    <tr>\n",
              "      <th>11</th>\n",
              "      <td>2020-12-01</td>\n",
              "      <td>623062</td>\n",
              "    </tr>\n",
              "    <tr>\n",
              "      <th>12</th>\n",
              "      <td>2021-01-01</td>\n",
              "      <td>465672</td>\n",
              "    </tr>\n",
              "    <tr>\n",
              "      <th>13</th>\n",
              "      <td>2021-02-01</td>\n",
              "      <td>790712</td>\n",
              "    </tr>\n",
              "    <tr>\n",
              "      <th>14</th>\n",
              "      <td>2021-03-01</td>\n",
              "      <td>889216</td>\n",
              "    </tr>\n",
              "    <tr>\n",
              "      <th>15</th>\n",
              "      <td>2021-04-01</td>\n",
              "      <td>1079000</td>\n",
              "    </tr>\n",
              "    <tr>\n",
              "      <th>16</th>\n",
              "      <td>2021-05-01</td>\n",
              "      <td>1132368</td>\n",
              "    </tr>\n",
              "  </tbody>\n",
              "</table>\n",
              "</div>"
            ],
            "text/plain": [
              "          time  visitor\n",
              "0   2020-01-01  1104438\n",
              "1   2020-02-01   599575\n",
              "2   2020-03-01   477176\n",
              "3   2020-04-01   541099\n",
              "4   2020-05-01   765616\n",
              "5   2020-06-01   860528\n",
              "6   2020-07-01   988093\n",
              "7   2020-08-01  1127098\n",
              "8   2020-09-01   726169\n",
              "9   2020-10-01  1072455\n",
              "10  2020-11-01  1138369\n",
              "11  2020-12-01   623062\n",
              "12  2021-01-01   465672\n",
              "13  2021-02-01   790712\n",
              "14  2021-03-01   889216\n",
              "15  2021-04-01  1079000\n",
              "16  2021-05-01  1132368"
            ]
          },
          "metadata": {
            "tags": []
          },
          "execution_count": 5
        }
      ]
    },
    {
      "cell_type": "code",
      "metadata": {
        "id": "1T6IraCnNoHX"
      },
      "source": [
        "df['time'] = pd.DatetimeIndex(df['time'])\n",
        "df['visitor'] = df['visitor'].astype('float64')"
      ],
      "execution_count": null,
      "outputs": []
    },
    {
      "cell_type": "code",
      "metadata": {
        "colab": {
          "base_uri": "https://localhost:8080/",
          "height": 573
        },
        "id": "HPiEN84ARXop",
        "outputId": "225f2832-cf9a-4c7f-ea61-eb82cadff62a"
      },
      "source": [
        "df"
      ],
      "execution_count": null,
      "outputs": [
        {
          "output_type": "execute_result",
          "data": {
            "text/html": [
              "<div>\n",
              "<style scoped>\n",
              "    .dataframe tbody tr th:only-of-type {\n",
              "        vertical-align: middle;\n",
              "    }\n",
              "\n",
              "    .dataframe tbody tr th {\n",
              "        vertical-align: top;\n",
              "    }\n",
              "\n",
              "    .dataframe thead th {\n",
              "        text-align: right;\n",
              "    }\n",
              "</style>\n",
              "<table border=\"1\" class=\"dataframe\">\n",
              "  <thead>\n",
              "    <tr style=\"text-align: right;\">\n",
              "      <th></th>\n",
              "      <th>time</th>\n",
              "      <th>visitor</th>\n",
              "    </tr>\n",
              "  </thead>\n",
              "  <tbody>\n",
              "    <tr>\n",
              "      <th>0</th>\n",
              "      <td>2020-01-01</td>\n",
              "      <td>1104438.0</td>\n",
              "    </tr>\n",
              "    <tr>\n",
              "      <th>1</th>\n",
              "      <td>2020-02-01</td>\n",
              "      <td>599575.0</td>\n",
              "    </tr>\n",
              "    <tr>\n",
              "      <th>2</th>\n",
              "      <td>2020-03-01</td>\n",
              "      <td>477176.0</td>\n",
              "    </tr>\n",
              "    <tr>\n",
              "      <th>3</th>\n",
              "      <td>2020-04-01</td>\n",
              "      <td>541099.0</td>\n",
              "    </tr>\n",
              "    <tr>\n",
              "      <th>4</th>\n",
              "      <td>2020-05-01</td>\n",
              "      <td>765616.0</td>\n",
              "    </tr>\n",
              "    <tr>\n",
              "      <th>5</th>\n",
              "      <td>2020-06-01</td>\n",
              "      <td>860528.0</td>\n",
              "    </tr>\n",
              "    <tr>\n",
              "      <th>6</th>\n",
              "      <td>2020-07-01</td>\n",
              "      <td>988093.0</td>\n",
              "    </tr>\n",
              "    <tr>\n",
              "      <th>7</th>\n",
              "      <td>2020-08-01</td>\n",
              "      <td>1127098.0</td>\n",
              "    </tr>\n",
              "    <tr>\n",
              "      <th>8</th>\n",
              "      <td>2020-09-01</td>\n",
              "      <td>726169.0</td>\n",
              "    </tr>\n",
              "    <tr>\n",
              "      <th>9</th>\n",
              "      <td>2020-10-01</td>\n",
              "      <td>1072455.0</td>\n",
              "    </tr>\n",
              "    <tr>\n",
              "      <th>10</th>\n",
              "      <td>2020-11-01</td>\n",
              "      <td>1138369.0</td>\n",
              "    </tr>\n",
              "    <tr>\n",
              "      <th>11</th>\n",
              "      <td>2020-12-01</td>\n",
              "      <td>623062.0</td>\n",
              "    </tr>\n",
              "    <tr>\n",
              "      <th>12</th>\n",
              "      <td>2021-01-01</td>\n",
              "      <td>465672.0</td>\n",
              "    </tr>\n",
              "    <tr>\n",
              "      <th>13</th>\n",
              "      <td>2021-02-01</td>\n",
              "      <td>790712.0</td>\n",
              "    </tr>\n",
              "    <tr>\n",
              "      <th>14</th>\n",
              "      <td>2021-03-01</td>\n",
              "      <td>889216.0</td>\n",
              "    </tr>\n",
              "    <tr>\n",
              "      <th>15</th>\n",
              "      <td>2021-04-01</td>\n",
              "      <td>1079000.0</td>\n",
              "    </tr>\n",
              "    <tr>\n",
              "      <th>16</th>\n",
              "      <td>2021-05-01</td>\n",
              "      <td>1132368.0</td>\n",
              "    </tr>\n",
              "  </tbody>\n",
              "</table>\n",
              "</div>"
            ],
            "text/plain": [
              "         time    visitor\n",
              "0  2020-01-01  1104438.0\n",
              "1  2020-02-01   599575.0\n",
              "2  2020-03-01   477176.0\n",
              "3  2020-04-01   541099.0\n",
              "4  2020-05-01   765616.0\n",
              "5  2020-06-01   860528.0\n",
              "6  2020-07-01   988093.0\n",
              "7  2020-08-01  1127098.0\n",
              "8  2020-09-01   726169.0\n",
              "9  2020-10-01  1072455.0\n",
              "10 2020-11-01  1138369.0\n",
              "11 2020-12-01   623062.0\n",
              "12 2021-01-01   465672.0\n",
              "13 2021-02-01   790712.0\n",
              "14 2021-03-01   889216.0\n",
              "15 2021-04-01  1079000.0\n",
              "16 2021-05-01  1132368.0"
            ]
          },
          "metadata": {
            "tags": []
          },
          "execution_count": 9
        }
      ]
    },
    {
      "cell_type": "code",
      "metadata": {
        "id": "5R1KOXE5hQWf"
      },
      "source": [
        "df.columns = ['ds', 'y']"
      ],
      "execution_count": null,
      "outputs": []
    },
    {
      "cell_type": "code",
      "metadata": {
        "colab": {
          "base_uri": "https://localhost:8080/",
          "height": 573
        },
        "id": "EOrX9qh1hYGB",
        "outputId": "5863630e-2895-4348-abea-576f5071274d"
      },
      "source": [
        "df"
      ],
      "execution_count": null,
      "outputs": [
        {
          "output_type": "execute_result",
          "data": {
            "text/html": [
              "<div>\n",
              "<style scoped>\n",
              "    .dataframe tbody tr th:only-of-type {\n",
              "        vertical-align: middle;\n",
              "    }\n",
              "\n",
              "    .dataframe tbody tr th {\n",
              "        vertical-align: top;\n",
              "    }\n",
              "\n",
              "    .dataframe thead th {\n",
              "        text-align: right;\n",
              "    }\n",
              "</style>\n",
              "<table border=\"1\" class=\"dataframe\">\n",
              "  <thead>\n",
              "    <tr style=\"text-align: right;\">\n",
              "      <th></th>\n",
              "      <th>ds</th>\n",
              "      <th>y</th>\n",
              "    </tr>\n",
              "  </thead>\n",
              "  <tbody>\n",
              "    <tr>\n",
              "      <th>0</th>\n",
              "      <td>2020-01-01</td>\n",
              "      <td>1104438.0</td>\n",
              "    </tr>\n",
              "    <tr>\n",
              "      <th>1</th>\n",
              "      <td>2020-02-01</td>\n",
              "      <td>599575.0</td>\n",
              "    </tr>\n",
              "    <tr>\n",
              "      <th>2</th>\n",
              "      <td>2020-03-01</td>\n",
              "      <td>477176.0</td>\n",
              "    </tr>\n",
              "    <tr>\n",
              "      <th>3</th>\n",
              "      <td>2020-04-01</td>\n",
              "      <td>541099.0</td>\n",
              "    </tr>\n",
              "    <tr>\n",
              "      <th>4</th>\n",
              "      <td>2020-05-01</td>\n",
              "      <td>765616.0</td>\n",
              "    </tr>\n",
              "    <tr>\n",
              "      <th>5</th>\n",
              "      <td>2020-06-01</td>\n",
              "      <td>860528.0</td>\n",
              "    </tr>\n",
              "    <tr>\n",
              "      <th>6</th>\n",
              "      <td>2020-07-01</td>\n",
              "      <td>988093.0</td>\n",
              "    </tr>\n",
              "    <tr>\n",
              "      <th>7</th>\n",
              "      <td>2020-08-01</td>\n",
              "      <td>1127098.0</td>\n",
              "    </tr>\n",
              "    <tr>\n",
              "      <th>8</th>\n",
              "      <td>2020-09-01</td>\n",
              "      <td>726169.0</td>\n",
              "    </tr>\n",
              "    <tr>\n",
              "      <th>9</th>\n",
              "      <td>2020-10-01</td>\n",
              "      <td>1072455.0</td>\n",
              "    </tr>\n",
              "    <tr>\n",
              "      <th>10</th>\n",
              "      <td>2020-11-01</td>\n",
              "      <td>1138369.0</td>\n",
              "    </tr>\n",
              "    <tr>\n",
              "      <th>11</th>\n",
              "      <td>2020-12-01</td>\n",
              "      <td>623062.0</td>\n",
              "    </tr>\n",
              "    <tr>\n",
              "      <th>12</th>\n",
              "      <td>2021-01-01</td>\n",
              "      <td>465672.0</td>\n",
              "    </tr>\n",
              "    <tr>\n",
              "      <th>13</th>\n",
              "      <td>2021-02-01</td>\n",
              "      <td>790712.0</td>\n",
              "    </tr>\n",
              "    <tr>\n",
              "      <th>14</th>\n",
              "      <td>2021-03-01</td>\n",
              "      <td>889216.0</td>\n",
              "    </tr>\n",
              "    <tr>\n",
              "      <th>15</th>\n",
              "      <td>2021-04-01</td>\n",
              "      <td>1079000.0</td>\n",
              "    </tr>\n",
              "    <tr>\n",
              "      <th>16</th>\n",
              "      <td>2021-05-01</td>\n",
              "      <td>1132368.0</td>\n",
              "    </tr>\n",
              "  </tbody>\n",
              "</table>\n",
              "</div>"
            ],
            "text/plain": [
              "           ds          y\n",
              "0  2020-01-01  1104438.0\n",
              "1  2020-02-01   599575.0\n",
              "2  2020-03-01   477176.0\n",
              "3  2020-04-01   541099.0\n",
              "4  2020-05-01   765616.0\n",
              "5  2020-06-01   860528.0\n",
              "6  2020-07-01   988093.0\n",
              "7  2020-08-01  1127098.0\n",
              "8  2020-09-01   726169.0\n",
              "9  2020-10-01  1072455.0\n",
              "10 2020-11-01  1138369.0\n",
              "11 2020-12-01   623062.0\n",
              "12 2021-01-01   465672.0\n",
              "13 2021-02-01   790712.0\n",
              "14 2021-03-01   889216.0\n",
              "15 2021-04-01  1079000.0\n",
              "16 2021-05-01  1132368.0"
            ]
          },
          "metadata": {
            "tags": []
          },
          "execution_count": 11
        }
      ]
    },
    {
      "cell_type": "code",
      "metadata": {
        "colab": {
          "base_uri": "https://localhost:8080/"
        },
        "id": "20lBP3TcRtj9",
        "outputId": "efd6c7ee-fbe1-4c11-c4ca-daa66269084d"
      },
      "source": [
        "df.info()"
      ],
      "execution_count": null,
      "outputs": [
        {
          "output_type": "stream",
          "text": [
            "<class 'pandas.core.frame.DataFrame'>\n",
            "RangeIndex: 17 entries, 0 to 16\n",
            "Data columns (total 2 columns):\n",
            " #   Column  Non-Null Count  Dtype         \n",
            "---  ------  --------------  -----         \n",
            " 0   ds      17 non-null     datetime64[ns]\n",
            " 1   y       17 non-null     float64       \n",
            "dtypes: datetime64[ns](1), float64(1)\n",
            "memory usage: 400.0 bytes\n"
          ],
          "name": "stdout"
        }
      ]
    },
    {
      "cell_type": "code",
      "metadata": {
        "colab": {
          "base_uri": "https://localhost:8080/"
        },
        "id": "OEx7j9vwh_BQ",
        "outputId": "e3fffa89-39c5-4e30-a1bb-49c3d9710d97"
      },
      "source": [
        "df.dtypes"
      ],
      "execution_count": null,
      "outputs": [
        {
          "output_type": "execute_result",
          "data": {
            "text/plain": [
              "ds    datetime64[ns]\n",
              "y            float64\n",
              "dtype: object"
            ]
          },
          "metadata": {
            "tags": []
          },
          "execution_count": 14
        }
      ]
    },
    {
      "cell_type": "markdown",
      "metadata": {
        "id": "lRNX3Q9OXPMq"
      },
      "source": [
        "### 모델링"
      ]
    },
    {
      "cell_type": "code",
      "metadata": {
        "colab": {
          "base_uri": "https://localhost:8080/"
        },
        "id": "R_L2zY7Km1ho",
        "outputId": "76ba872d-5e4a-4d1d-a030-160213401658"
      },
      "source": [
        "m = Prophet(\n",
        "    interval_width=0.95,\n",
        "    yearly_seasonality='auto',\n",
        "    weekly_seasonality=True, \n",
        "    daily_seasonality='auto',\n",
        "    seasonality_mode='additive', \n",
        "    changepoint_prior_scale=0.1, \n",
        ")\n",
        "\n",
        "# interval_width=0.95, # 불확실성\n",
        "# seasonality_mode='additive' # 가법모델(앞에 값을 계속 더함 \n",
        "#                  -> 관광객은 계속 꾸준히 증가하는 것이 아니라 상황에 따라 변할 수 있기 때문에 적절치 않음)\n",
        "# seasonality_mode='multiplicative' # 승법모델\n",
        "# changepoint_prior_scale=0.1 트렌드의 유연성, 코로나 상황별 극심하게 변하므로 값을 좀 더 높게\n",
        "\n",
        "m.fit(df)"
      ],
      "execution_count": 71,
      "outputs": [
        {
          "output_type": "stream",
          "text": [
            "INFO:fbprophet:Disabling yearly seasonality. Run prophet with yearly_seasonality=True to override this.\n",
            "INFO:fbprophet:n_changepoints greater than number of observations. Using 12.\n"
          ],
          "name": "stderr"
        },
        {
          "output_type": "execute_result",
          "data": {
            "text/plain": [
              "<fbprophet.forecaster.Prophet at 0x7f5d794af490>"
            ]
          },
          "metadata": {
            "tags": []
          },
          "execution_count": 71
        }
      ]
    },
    {
      "cell_type": "markdown",
      "metadata": {
        "id": "PbB9cQmlXR80"
      },
      "source": [
        "### 5개월 간의 예측"
      ]
    },
    {
      "cell_type": "code",
      "metadata": {
        "colab": {
          "base_uri": "https://localhost:8080/",
          "height": 727
        },
        "id": "WC_fQPurm3_8",
        "outputId": "b125bf29-4a91-4a51-caae-1a908a3fb682"
      },
      "source": [
        "예측날짜 = m.make_future_dataframe(periods=5, freq='M') #freq 주기 : 연 y, 월 m, 일 d\n",
        "예측날짜"
      ],
      "execution_count": 68,
      "outputs": [
        {
          "output_type": "execute_result",
          "data": {
            "text/html": [
              "<div>\n",
              "<style scoped>\n",
              "    .dataframe tbody tr th:only-of-type {\n",
              "        vertical-align: middle;\n",
              "    }\n",
              "\n",
              "    .dataframe tbody tr th {\n",
              "        vertical-align: top;\n",
              "    }\n",
              "\n",
              "    .dataframe thead th {\n",
              "        text-align: right;\n",
              "    }\n",
              "</style>\n",
              "<table border=\"1\" class=\"dataframe\">\n",
              "  <thead>\n",
              "    <tr style=\"text-align: right;\">\n",
              "      <th></th>\n",
              "      <th>ds</th>\n",
              "    </tr>\n",
              "  </thead>\n",
              "  <tbody>\n",
              "    <tr>\n",
              "      <th>0</th>\n",
              "      <td>2020-01-01</td>\n",
              "    </tr>\n",
              "    <tr>\n",
              "      <th>1</th>\n",
              "      <td>2020-02-01</td>\n",
              "    </tr>\n",
              "    <tr>\n",
              "      <th>2</th>\n",
              "      <td>2020-03-01</td>\n",
              "    </tr>\n",
              "    <tr>\n",
              "      <th>3</th>\n",
              "      <td>2020-04-01</td>\n",
              "    </tr>\n",
              "    <tr>\n",
              "      <th>4</th>\n",
              "      <td>2020-05-01</td>\n",
              "    </tr>\n",
              "    <tr>\n",
              "      <th>5</th>\n",
              "      <td>2020-06-01</td>\n",
              "    </tr>\n",
              "    <tr>\n",
              "      <th>6</th>\n",
              "      <td>2020-07-01</td>\n",
              "    </tr>\n",
              "    <tr>\n",
              "      <th>7</th>\n",
              "      <td>2020-08-01</td>\n",
              "    </tr>\n",
              "    <tr>\n",
              "      <th>8</th>\n",
              "      <td>2020-09-01</td>\n",
              "    </tr>\n",
              "    <tr>\n",
              "      <th>9</th>\n",
              "      <td>2020-10-01</td>\n",
              "    </tr>\n",
              "    <tr>\n",
              "      <th>10</th>\n",
              "      <td>2020-11-01</td>\n",
              "    </tr>\n",
              "    <tr>\n",
              "      <th>11</th>\n",
              "      <td>2020-12-01</td>\n",
              "    </tr>\n",
              "    <tr>\n",
              "      <th>12</th>\n",
              "      <td>2021-01-01</td>\n",
              "    </tr>\n",
              "    <tr>\n",
              "      <th>13</th>\n",
              "      <td>2021-02-01</td>\n",
              "    </tr>\n",
              "    <tr>\n",
              "      <th>14</th>\n",
              "      <td>2021-03-01</td>\n",
              "    </tr>\n",
              "    <tr>\n",
              "      <th>15</th>\n",
              "      <td>2021-04-01</td>\n",
              "    </tr>\n",
              "    <tr>\n",
              "      <th>16</th>\n",
              "      <td>2021-05-01</td>\n",
              "    </tr>\n",
              "    <tr>\n",
              "      <th>17</th>\n",
              "      <td>2021-05-31</td>\n",
              "    </tr>\n",
              "    <tr>\n",
              "      <th>18</th>\n",
              "      <td>2021-06-30</td>\n",
              "    </tr>\n",
              "    <tr>\n",
              "      <th>19</th>\n",
              "      <td>2021-07-31</td>\n",
              "    </tr>\n",
              "    <tr>\n",
              "      <th>20</th>\n",
              "      <td>2021-08-31</td>\n",
              "    </tr>\n",
              "    <tr>\n",
              "      <th>21</th>\n",
              "      <td>2021-09-30</td>\n",
              "    </tr>\n",
              "  </tbody>\n",
              "</table>\n",
              "</div>"
            ],
            "text/plain": [
              "           ds\n",
              "0  2020-01-01\n",
              "1  2020-02-01\n",
              "2  2020-03-01\n",
              "3  2020-04-01\n",
              "4  2020-05-01\n",
              "5  2020-06-01\n",
              "6  2020-07-01\n",
              "7  2020-08-01\n",
              "8  2020-09-01\n",
              "9  2020-10-01\n",
              "10 2020-11-01\n",
              "11 2020-12-01\n",
              "12 2021-01-01\n",
              "13 2021-02-01\n",
              "14 2021-03-01\n",
              "15 2021-04-01\n",
              "16 2021-05-01\n",
              "17 2021-05-31\n",
              "18 2021-06-30\n",
              "19 2021-07-31\n",
              "20 2021-08-31\n",
              "21 2021-09-30"
            ]
          },
          "metadata": {
            "tags": []
          },
          "execution_count": 68
        }
      ]
    },
    {
      "cell_type": "code",
      "metadata": {
        "colab": {
          "base_uri": "https://localhost:8080/",
          "height": 308
        },
        "id": "i_aLfMr7Tv-8",
        "outputId": "f2bc5e2d-fb3d-4816-e54e-2735f75de686"
      },
      "source": [
        " 예측값 = m.predict(예측날짜)\n",
        " 예측값.tail()"
      ],
      "execution_count": 72,
      "outputs": [
        {
          "output_type": "execute_result",
          "data": {
            "text/html": [
              "<div>\n",
              "<style scoped>\n",
              "    .dataframe tbody tr th:only-of-type {\n",
              "        vertical-align: middle;\n",
              "    }\n",
              "\n",
              "    .dataframe tbody tr th {\n",
              "        vertical-align: top;\n",
              "    }\n",
              "\n",
              "    .dataframe thead th {\n",
              "        text-align: right;\n",
              "    }\n",
              "</style>\n",
              "<table border=\"1\" class=\"dataframe\">\n",
              "  <thead>\n",
              "    <tr style=\"text-align: right;\">\n",
              "      <th></th>\n",
              "      <th>ds</th>\n",
              "      <th>trend</th>\n",
              "      <th>yhat_lower</th>\n",
              "      <th>yhat_upper</th>\n",
              "      <th>trend_lower</th>\n",
              "      <th>trend_upper</th>\n",
              "      <th>additive_terms</th>\n",
              "      <th>additive_terms_lower</th>\n",
              "      <th>additive_terms_upper</th>\n",
              "      <th>daily</th>\n",
              "      <th>daily_lower</th>\n",
              "      <th>daily_upper</th>\n",
              "      <th>weekly</th>\n",
              "      <th>weekly_lower</th>\n",
              "      <th>weekly_upper</th>\n",
              "      <th>multiplicative_terms</th>\n",
              "      <th>multiplicative_terms_lower</th>\n",
              "      <th>multiplicative_terms_upper</th>\n",
              "      <th>yhat</th>\n",
              "    </tr>\n",
              "  </thead>\n",
              "  <tbody>\n",
              "    <tr>\n",
              "      <th>17</th>\n",
              "      <td>2021-05-31</td>\n",
              "      <td>334154.620899</td>\n",
              "      <td>596057.922820</td>\n",
              "      <td>1.294217e+06</td>\n",
              "      <td>334154.618660</td>\n",
              "      <td>334154.623482</td>\n",
              "      <td>621657.155689</td>\n",
              "      <td>621657.155689</td>\n",
              "      <td>621657.155689</td>\n",
              "      <td>654068.939234</td>\n",
              "      <td>654068.939234</td>\n",
              "      <td>654068.939234</td>\n",
              "      <td>-32411.783545</td>\n",
              "      <td>-32411.783545</td>\n",
              "      <td>-32411.783545</td>\n",
              "      <td>0.0</td>\n",
              "      <td>0.0</td>\n",
              "      <td>0.0</td>\n",
              "      <td>9.558118e+05</td>\n",
              "    </tr>\n",
              "    <tr>\n",
              "      <th>18</th>\n",
              "      <td>2021-06-30</td>\n",
              "      <td>351229.538396</td>\n",
              "      <td>783461.039792</td>\n",
              "      <td>1.485402e+06</td>\n",
              "      <td>351229.532664</td>\n",
              "      <td>351229.545753</td>\n",
              "      <td>785548.594849</td>\n",
              "      <td>785548.594849</td>\n",
              "      <td>785548.594849</td>\n",
              "      <td>654068.939234</td>\n",
              "      <td>654068.939234</td>\n",
              "      <td>654068.939234</td>\n",
              "      <td>131479.655615</td>\n",
              "      <td>131479.655615</td>\n",
              "      <td>131479.655615</td>\n",
              "      <td>0.0</td>\n",
              "      <td>0.0</td>\n",
              "      <td>0.0</td>\n",
              "      <td>1.136778e+06</td>\n",
              "    </tr>\n",
              "    <tr>\n",
              "      <th>19</th>\n",
              "      <td>2021-07-31</td>\n",
              "      <td>368873.619810</td>\n",
              "      <td>808446.044186</td>\n",
              "      <td>1.510938e+06</td>\n",
              "      <td>368873.608589</td>\n",
              "      <td>368873.632167</td>\n",
              "      <td>774068.769297</td>\n",
              "      <td>774068.769297</td>\n",
              "      <td>774068.769297</td>\n",
              "      <td>654068.939234</td>\n",
              "      <td>654068.939234</td>\n",
              "      <td>654068.939234</td>\n",
              "      <td>119999.830063</td>\n",
              "      <td>119999.830063</td>\n",
              "      <td>119999.830063</td>\n",
              "      <td>0.0</td>\n",
              "      <td>0.0</td>\n",
              "      <td>0.0</td>\n",
              "      <td>1.142942e+06</td>\n",
              "    </tr>\n",
              "    <tr>\n",
              "      <th>20</th>\n",
              "      <td>2021-08-31</td>\n",
              "      <td>386517.701224</td>\n",
              "      <td>521254.071064</td>\n",
              "      <td>1.202438e+06</td>\n",
              "      <td>386517.683285</td>\n",
              "      <td>386517.719640</td>\n",
              "      <td>469485.446475</td>\n",
              "      <td>469485.446475</td>\n",
              "      <td>469485.446475</td>\n",
              "      <td>654068.939234</td>\n",
              "      <td>654068.939234</td>\n",
              "      <td>654068.939234</td>\n",
              "      <td>-184583.492760</td>\n",
              "      <td>-184583.492760</td>\n",
              "      <td>-184583.492760</td>\n",
              "      <td>0.0</td>\n",
              "      <td>0.0</td>\n",
              "      <td>0.0</td>\n",
              "      <td>8.560031e+05</td>\n",
              "    </tr>\n",
              "    <tr>\n",
              "      <th>21</th>\n",
              "      <td>2021-09-30</td>\n",
              "      <td>403592.618721</td>\n",
              "      <td>906821.525225</td>\n",
              "      <td>1.592939e+06</td>\n",
              "      <td>403592.593302</td>\n",
              "      <td>403592.644661</td>\n",
              "      <td>827641.544101</td>\n",
              "      <td>827641.544101</td>\n",
              "      <td>827641.544101</td>\n",
              "      <td>654068.939234</td>\n",
              "      <td>654068.939234</td>\n",
              "      <td>654068.939234</td>\n",
              "      <td>173572.604867</td>\n",
              "      <td>173572.604867</td>\n",
              "      <td>173572.604867</td>\n",
              "      <td>0.0</td>\n",
              "      <td>0.0</td>\n",
              "      <td>0.0</td>\n",
              "      <td>1.231234e+06</td>\n",
              "    </tr>\n",
              "  </tbody>\n",
              "</table>\n",
              "</div>"
            ],
            "text/plain": [
              "           ds          trend  ...  multiplicative_terms_upper          yhat\n",
              "17 2021-05-31  334154.620899  ...                         0.0  9.558118e+05\n",
              "18 2021-06-30  351229.538396  ...                         0.0  1.136778e+06\n",
              "19 2021-07-31  368873.619810  ...                         0.0  1.142942e+06\n",
              "20 2021-08-31  386517.701224  ...                         0.0  8.560031e+05\n",
              "21 2021-09-30  403592.618721  ...                         0.0  1.231234e+06\n",
              "\n",
              "[5 rows x 19 columns]"
            ]
          },
          "metadata": {
            "tags": []
          },
          "execution_count": 72
        }
      ]
    },
    {
      "cell_type": "code",
      "metadata": {
        "colab": {
          "base_uri": "https://localhost:8080/",
          "height": 441
        },
        "id": "RU6iK746oHna",
        "outputId": "be6c240f-8396-429a-9aab-f35c5772a8a1"
      },
      "source": [
        "plot1 = m.plot(예측값)"
      ],
      "execution_count": 73,
      "outputs": [
        {
          "output_type": "display_data",
          "data": {
            "image/png": "[encoded data removed]",
            "text/plain": [
              "<Figure size 720x432 with 1 Axes>"
            ]
          },
          "metadata": {
            "tags": []
          }
        }
      ]
    },
    {
      "cell_type": "markdown",
      "metadata": {
        "id": "05fDxAIZW9UN"
      },
      "source": [
        "### 한계점\n",
        "\n",
        "* 코로나 단계별 예측이 아니라 숫자에만 의존한 모델링으로 정확한 예측을 하기 어렵다."
      ]
    },
    {
      "cell_type": "markdown",
      "metadata": {
        "id": "3pIx5T3UXjsz"
      },
      "source": [
        "## 딥러닝을 통한 코로나 상황별 입도객 예측"
      ]
    },
    {
      "cell_type": "code",
      "metadata": {
        "id": "qrkE1CeoW8pj"
      },
      "source": [
        "import tensorflow as tf"
      ],
      "execution_count": 3,
      "outputs": []
    },
    {
      "cell_type": "code",
      "metadata": {
        "colab": {
          "base_uri": "https://localhost:8080/",
          "height": 604
        },
        "id": "JeAVrvh0gE1x",
        "outputId": "af9d08dd-7fc3-4497-e02f-e0cc217b2df4"
      },
      "source": [
        "df = pd.read_csv('data.csv')\n",
        "df"
      ],
      "execution_count": 5,
      "outputs": [
        {
          "output_type": "execute_result",
          "data": {
            "text/html": [
              "<div>\n",
              "<style scoped>\n",
              "    .dataframe tbody tr th:only-of-type {\n",
              "        vertical-align: middle;\n",
              "    }\n",
              "\n",
              "    .dataframe tbody tr th {\n",
              "        vertical-align: top;\n",
              "    }\n",
              "\n",
              "    .dataframe thead th {\n",
              "        text-align: right;\n",
              "    }\n",
              "</style>\n",
              "<table border=\"1\" class=\"dataframe\">\n",
              "  <thead>\n",
              "    <tr style=\"text-align: right;\">\n",
              "      <th></th>\n",
              "      <th>time</th>\n",
              "      <th>visitor</th>\n",
              "      <th>level</th>\n",
              "    </tr>\n",
              "  </thead>\n",
              "  <tbody>\n",
              "    <tr>\n",
              "      <th>0</th>\n",
              "      <td>2020-01-01</td>\n",
              "      <td>1104438</td>\n",
              "      <td>0.0</td>\n",
              "    </tr>\n",
              "    <tr>\n",
              "      <th>1</th>\n",
              "      <td>2020-02-01</td>\n",
              "      <td>599575</td>\n",
              "      <td>0.0</td>\n",
              "    </tr>\n",
              "    <tr>\n",
              "      <th>2</th>\n",
              "      <td>2020-03-01</td>\n",
              "      <td>477176</td>\n",
              "      <td>0.0</td>\n",
              "    </tr>\n",
              "    <tr>\n",
              "      <th>3</th>\n",
              "      <td>2020-04-01</td>\n",
              "      <td>541099</td>\n",
              "      <td>0.0</td>\n",
              "    </tr>\n",
              "    <tr>\n",
              "      <th>4</th>\n",
              "      <td>2020-05-01</td>\n",
              "      <td>765616</td>\n",
              "      <td>0.0</td>\n",
              "    </tr>\n",
              "    <tr>\n",
              "      <th>5</th>\n",
              "      <td>2020-06-01</td>\n",
              "      <td>860528</td>\n",
              "      <td>0.0</td>\n",
              "    </tr>\n",
              "    <tr>\n",
              "      <th>6</th>\n",
              "      <td>2020-07-01</td>\n",
              "      <td>988093</td>\n",
              "      <td>0.0</td>\n",
              "    </tr>\n",
              "    <tr>\n",
              "      <th>7</th>\n",
              "      <td>2020-08-01</td>\n",
              "      <td>1127098</td>\n",
              "      <td>2.0</td>\n",
              "    </tr>\n",
              "    <tr>\n",
              "      <th>8</th>\n",
              "      <td>2020-09-01</td>\n",
              "      <td>726169</td>\n",
              "      <td>2.0</td>\n",
              "    </tr>\n",
              "    <tr>\n",
              "      <th>9</th>\n",
              "      <td>2020-10-01</td>\n",
              "      <td>1072455</td>\n",
              "      <td>2.0</td>\n",
              "    </tr>\n",
              "    <tr>\n",
              "      <th>10</th>\n",
              "      <td>2020-11-01</td>\n",
              "      <td>1138369</td>\n",
              "      <td>1.0</td>\n",
              "    </tr>\n",
              "    <tr>\n",
              "      <th>11</th>\n",
              "      <td>2020-12-01</td>\n",
              "      <td>623062</td>\n",
              "      <td>1.5</td>\n",
              "    </tr>\n",
              "    <tr>\n",
              "      <th>12</th>\n",
              "      <td>2021-01-01</td>\n",
              "      <td>465672</td>\n",
              "      <td>2.0</td>\n",
              "    </tr>\n",
              "    <tr>\n",
              "      <th>13</th>\n",
              "      <td>2021-02-01</td>\n",
              "      <td>790712</td>\n",
              "      <td>1.7</td>\n",
              "    </tr>\n",
              "    <tr>\n",
              "      <th>14</th>\n",
              "      <td>2021-03-01</td>\n",
              "      <td>889216</td>\n",
              "      <td>1.5</td>\n",
              "    </tr>\n",
              "    <tr>\n",
              "      <th>15</th>\n",
              "      <td>2021-04-01</td>\n",
              "      <td>1079000</td>\n",
              "      <td>1.5</td>\n",
              "    </tr>\n",
              "    <tr>\n",
              "      <th>16</th>\n",
              "      <td>2021-05-01</td>\n",
              "      <td>1132368</td>\n",
              "      <td>2.0</td>\n",
              "    </tr>\n",
              "    <tr>\n",
              "      <th>17</th>\n",
              "      <td>2021-06-01</td>\n",
              "      <td>1127082</td>\n",
              "      <td>1.5</td>\n",
              "    </tr>\n",
              "  </tbody>\n",
              "</table>\n",
              "</div>"
            ],
            "text/plain": [
              "          time  visitor  level\n",
              "0   2020-01-01  1104438    0.0\n",
              "1   2020-02-01   599575    0.0\n",
              "2   2020-03-01   477176    0.0\n",
              "3   2020-04-01   541099    0.0\n",
              "4   2020-05-01   765616    0.0\n",
              "5   2020-06-01   860528    0.0\n",
              "6   2020-07-01   988093    0.0\n",
              "7   2020-08-01  1127098    2.0\n",
              "8   2020-09-01   726169    2.0\n",
              "9   2020-10-01  1072455    2.0\n",
              "10  2020-11-01  1138369    1.0\n",
              "11  2020-12-01   623062    1.5\n",
              "12  2021-01-01   465672    2.0\n",
              "13  2021-02-01   790712    1.7\n",
              "14  2021-03-01   889216    1.5\n",
              "15  2021-04-01  1079000    1.5\n",
              "16  2021-05-01  1132368    2.0\n",
              "17  2021-06-01  1127082    1.5"
            ]
          },
          "metadata": {
            "tags": []
          },
          "execution_count": 5
        }
      ]
    },
    {
      "cell_type": "code",
      "metadata": {
        "colab": {
          "base_uri": "https://localhost:8080/"
        },
        "id": "2K1ngAZ7gO6m",
        "outputId": "945273e9-d935-4fa0-983a-f50220288485"
      },
      "source": [
        "df.info()"
      ],
      "execution_count": 6,
      "outputs": [
        {
          "output_type": "stream",
          "text": [
            "<class 'pandas.core.frame.DataFrame'>\n",
            "RangeIndex: 18 entries, 0 to 17\n",
            "Data columns (total 3 columns):\n",
            " #   Column   Non-Null Count  Dtype  \n",
            "---  ------   --------------  -----  \n",
            " 0   time     18 non-null     object \n",
            " 1   visitor  18 non-null     int64  \n",
            " 2   level    18 non-null     float64\n",
            "dtypes: float64(1), int64(1), object(1)\n",
            "memory usage: 560.0+ bytes\n"
          ],
          "name": "stdout"
        }
      ]
    },
    {
      "cell_type": "code",
      "metadata": {
        "colab": {
          "base_uri": "https://localhost:8080/",
          "height": 604
        },
        "id": "-Z2t5py5gWFY",
        "outputId": "8c2bbe3d-f766-43f0-c947-b6cab93609e1"
      },
      "source": [
        "## df['time'] = pd.DatetimeIndex(df['time'])\n",
        "df['time'] = df['time'].str.slice(start=5, stop=7).astype('int')\n",
        "df"
      ],
      "execution_count": 7,
      "outputs": [
        {
          "output_type": "execute_result",
          "data": {
            "text/html": [
              "<div>\n",
              "<style scoped>\n",
              "    .dataframe tbody tr th:only-of-type {\n",
              "        vertical-align: middle;\n",
              "    }\n",
              "\n",
              "    .dataframe tbody tr th {\n",
              "        vertical-align: top;\n",
              "    }\n",
              "\n",
              "    .dataframe thead th {\n",
              "        text-align: right;\n",
              "    }\n",
              "</style>\n",
              "<table border=\"1\" class=\"dataframe\">\n",
              "  <thead>\n",
              "    <tr style=\"text-align: right;\">\n",
              "      <th></th>\n",
              "      <th>time</th>\n",
              "      <th>visitor</th>\n",
              "      <th>level</th>\n",
              "    </tr>\n",
              "  </thead>\n",
              "  <tbody>\n",
              "    <tr>\n",
              "      <th>0</th>\n",
              "      <td>1</td>\n",
              "      <td>1104438</td>\n",
              "      <td>0.0</td>\n",
              "    </tr>\n",
              "    <tr>\n",
              "      <th>1</th>\n",
              "      <td>2</td>\n",
              "      <td>599575</td>\n",
              "      <td>0.0</td>\n",
              "    </tr>\n",
              "    <tr>\n",
              "      <th>2</th>\n",
              "      <td>3</td>\n",
              "      <td>477176</td>\n",
              "      <td>0.0</td>\n",
              "    </tr>\n",
              "    <tr>\n",
              "      <th>3</th>\n",
              "      <td>4</td>\n",
              "      <td>541099</td>\n",
              "      <td>0.0</td>\n",
              "    </tr>\n",
              "    <tr>\n",
              "      <th>4</th>\n",
              "      <td>5</td>\n",
              "      <td>765616</td>\n",
              "      <td>0.0</td>\n",
              "    </tr>\n",
              "    <tr>\n",
              "      <th>5</th>\n",
              "      <td>6</td>\n",
              "      <td>860528</td>\n",
              "      <td>0.0</td>\n",
              "    </tr>\n",
              "    <tr>\n",
              "      <th>6</th>\n",
              "      <td>7</td>\n",
              "      <td>988093</td>\n",
              "      <td>0.0</td>\n",
              "    </tr>\n",
              "    <tr>\n",
              "      <th>7</th>\n",
              "      <td>8</td>\n",
              "      <td>1127098</td>\n",
              "      <td>2.0</td>\n",
              "    </tr>\n",
              "    <tr>\n",
              "      <th>8</th>\n",
              "      <td>9</td>\n",
              "      <td>726169</td>\n",
              "      <td>2.0</td>\n",
              "    </tr>\n",
              "    <tr>\n",
              "      <th>9</th>\n",
              "      <td>10</td>\n",
              "      <td>1072455</td>\n",
              "      <td>2.0</td>\n",
              "    </tr>\n",
              "    <tr>\n",
              "      <th>10</th>\n",
              "      <td>11</td>\n",
              "      <td>1138369</td>\n",
              "      <td>1.0</td>\n",
              "    </tr>\n",
              "    <tr>\n",
              "      <th>11</th>\n",
              "      <td>12</td>\n",
              "      <td>623062</td>\n",
              "      <td>1.5</td>\n",
              "    </tr>\n",
              "    <tr>\n",
              "      <th>12</th>\n",
              "      <td>1</td>\n",
              "      <td>465672</td>\n",
              "      <td>2.0</td>\n",
              "    </tr>\n",
              "    <tr>\n",
              "      <th>13</th>\n",
              "      <td>2</td>\n",
              "      <td>790712</td>\n",
              "      <td>1.7</td>\n",
              "    </tr>\n",
              "    <tr>\n",
              "      <th>14</th>\n",
              "      <td>3</td>\n",
              "      <td>889216</td>\n",
              "      <td>1.5</td>\n",
              "    </tr>\n",
              "    <tr>\n",
              "      <th>15</th>\n",
              "      <td>4</td>\n",
              "      <td>1079000</td>\n",
              "      <td>1.5</td>\n",
              "    </tr>\n",
              "    <tr>\n",
              "      <th>16</th>\n",
              "      <td>5</td>\n",
              "      <td>1132368</td>\n",
              "      <td>2.0</td>\n",
              "    </tr>\n",
              "    <tr>\n",
              "      <th>17</th>\n",
              "      <td>6</td>\n",
              "      <td>1127082</td>\n",
              "      <td>1.5</td>\n",
              "    </tr>\n",
              "  </tbody>\n",
              "</table>\n",
              "</div>"
            ],
            "text/plain": [
              "    time  visitor  level\n",
              "0      1  1104438    0.0\n",
              "1      2   599575    0.0\n",
              "2      3   477176    0.0\n",
              "3      4   541099    0.0\n",
              "4      5   765616    0.0\n",
              "5      6   860528    0.0\n",
              "6      7   988093    0.0\n",
              "7      8  1127098    2.0\n",
              "8      9   726169    2.0\n",
              "9     10  1072455    2.0\n",
              "10    11  1138369    1.0\n",
              "11    12   623062    1.5\n",
              "12     1   465672    2.0\n",
              "13     2   790712    1.7\n",
              "14     3   889216    1.5\n",
              "15     4  1079000    1.5\n",
              "16     5  1132368    2.0\n",
              "17     6  1127082    1.5"
            ]
          },
          "metadata": {
            "tags": []
          },
          "execution_count": 7
        }
      ]
    },
    {
      "cell_type": "code",
      "metadata": {
        "colab": {
          "base_uri": "https://localhost:8080/",
          "height": 604
        },
        "id": "4exjIVK_ihcF",
        "outputId": "52a6c244-b8b9-4dd9-dfb1-e90ed7008246"
      },
      "source": [
        "df['코로나_발생후_경과시간'] = np.arange(1, 19)\n",
        "df"
      ],
      "execution_count": 8,
      "outputs": [
        {
          "output_type": "execute_result",
          "data": {
            "text/html": [
              "<div>\n",
              "<style scoped>\n",
              "    .dataframe tbody tr th:only-of-type {\n",
              "        vertical-align: middle;\n",
              "    }\n",
              "\n",
              "    .dataframe tbody tr th {\n",
              "        vertical-align: top;\n",
              "    }\n",
              "\n",
              "    .dataframe thead th {\n",
              "        text-align: right;\n",
              "    }\n",
              "</style>\n",
              "<table border=\"1\" class=\"dataframe\">\n",
              "  <thead>\n",
              "    <tr style=\"text-align: right;\">\n",
              "      <th></th>\n",
              "      <th>time</th>\n",
              "      <th>visitor</th>\n",
              "      <th>level</th>\n",
              "      <th>코로나_발생후_경과시간</th>\n",
              "    </tr>\n",
              "  </thead>\n",
              "  <tbody>\n",
              "    <tr>\n",
              "      <th>0</th>\n",
              "      <td>1</td>\n",
              "      <td>1104438</td>\n",
              "      <td>0.0</td>\n",
              "      <td>1</td>\n",
              "    </tr>\n",
              "    <tr>\n",
              "      <th>1</th>\n",
              "      <td>2</td>\n",
              "      <td>599575</td>\n",
              "      <td>0.0</td>\n",
              "      <td>2</td>\n",
              "    </tr>\n",
              "    <tr>\n",
              "      <th>2</th>\n",
              "      <td>3</td>\n",
              "      <td>477176</td>\n",
              "      <td>0.0</td>\n",
              "      <td>3</td>\n",
              "    </tr>\n",
              "    <tr>\n",
              "      <th>3</th>\n",
              "      <td>4</td>\n",
              "      <td>541099</td>\n",
              "      <td>0.0</td>\n",
              "      <td>4</td>\n",
              "    </tr>\n",
              "    <tr>\n",
              "      <th>4</th>\n",
              "      <td>5</td>\n",
              "      <td>765616</td>\n",
              "      <td>0.0</td>\n",
              "      <td>5</td>\n",
              "    </tr>\n",
              "    <tr>\n",
              "      <th>5</th>\n",
              "      <td>6</td>\n",
              "      <td>860528</td>\n",
              "      <td>0.0</td>\n",
              "      <td>6</td>\n",
              "    </tr>\n",
              "    <tr>\n",
              "      <th>6</th>\n",
              "      <td>7</td>\n",
              "      <td>988093</td>\n",
              "      <td>0.0</td>\n",
              "      <td>7</td>\n",
              "    </tr>\n",
              "    <tr>\n",
              "      <th>7</th>\n",
              "      <td>8</td>\n",
              "      <td>1127098</td>\n",
              "      <td>2.0</td>\n",
              "      <td>8</td>\n",
              "    </tr>\n",
              "    <tr>\n",
              "      <th>8</th>\n",
              "      <td>9</td>\n",
              "      <td>726169</td>\n",
              "      <td>2.0</td>\n",
              "      <td>9</td>\n",
              "    </tr>\n",
              "    <tr>\n",
              "      <th>9</th>\n",
              "      <td>10</td>\n",
              "      <td>1072455</td>\n",
              "      <td>2.0</td>\n",
              "      <td>10</td>\n",
              "    </tr>\n",
              "    <tr>\n",
              "      <th>10</th>\n",
              "      <td>11</td>\n",
              "      <td>1138369</td>\n",
              "      <td>1.0</td>\n",
              "      <td>11</td>\n",
              "    </tr>\n",
              "    <tr>\n",
              "      <th>11</th>\n",
              "      <td>12</td>\n",
              "      <td>623062</td>\n",
              "      <td>1.5</td>\n",
              "      <td>12</td>\n",
              "    </tr>\n",
              "    <tr>\n",
              "      <th>12</th>\n",
              "      <td>1</td>\n",
              "      <td>465672</td>\n",
              "      <td>2.0</td>\n",
              "      <td>13</td>\n",
              "    </tr>\n",
              "    <tr>\n",
              "      <th>13</th>\n",
              "      <td>2</td>\n",
              "      <td>790712</td>\n",
              "      <td>1.7</td>\n",
              "      <td>14</td>\n",
              "    </tr>\n",
              "    <tr>\n",
              "      <th>14</th>\n",
              "      <td>3</td>\n",
              "      <td>889216</td>\n",
              "      <td>1.5</td>\n",
              "      <td>15</td>\n",
              "    </tr>\n",
              "    <tr>\n",
              "      <th>15</th>\n",
              "      <td>4</td>\n",
              "      <td>1079000</td>\n",
              "      <td>1.5</td>\n",
              "      <td>16</td>\n",
              "    </tr>\n",
              "    <tr>\n",
              "      <th>16</th>\n",
              "      <td>5</td>\n",
              "      <td>1132368</td>\n",
              "      <td>2.0</td>\n",
              "      <td>17</td>\n",
              "    </tr>\n",
              "    <tr>\n",
              "      <th>17</th>\n",
              "      <td>6</td>\n",
              "      <td>1127082</td>\n",
              "      <td>1.5</td>\n",
              "      <td>18</td>\n",
              "    </tr>\n",
              "  </tbody>\n",
              "</table>\n",
              "</div>"
            ],
            "text/plain": [
              "    time  visitor  level  코로나_발생후_경과시간\n",
              "0      1  1104438    0.0             1\n",
              "1      2   599575    0.0             2\n",
              "2      3   477176    0.0             3\n",
              "3      4   541099    0.0             4\n",
              "4      5   765616    0.0             5\n",
              "5      6   860528    0.0             6\n",
              "6      7   988093    0.0             7\n",
              "7      8  1127098    2.0             8\n",
              "8      9   726169    2.0             9\n",
              "9     10  1072455    2.0            10\n",
              "10    11  1138369    1.0            11\n",
              "11    12   623062    1.5            12\n",
              "12     1   465672    2.0            13\n",
              "13     2   790712    1.7            14\n",
              "14     3   889216    1.5            15\n",
              "15     4  1079000    1.5            16\n",
              "16     5  1132368    2.0            17\n",
              "17     6  1127082    1.5            18"
            ]
          },
          "metadata": {
            "tags": []
          },
          "execution_count": 8
        }
      ]
    },
    {
      "cell_type": "code",
      "metadata": {
        "colab": {
          "base_uri": "https://localhost:8080/"
        },
        "id": "4Bm1vPDggXai",
        "outputId": "70bbe46b-0ba2-4992-dfe9-0ade29e68022"
      },
      "source": [
        "df.info()"
      ],
      "execution_count": 113,
      "outputs": [
        {
          "output_type": "stream",
          "text": [
            "<class 'pandas.core.frame.DataFrame'>\n",
            "RangeIndex: 18 entries, 0 to 17\n",
            "Data columns (total 4 columns):\n",
            " #   Column        Non-Null Count  Dtype  \n",
            "---  ------        --------------  -----  \n",
            " 0   time          18 non-null     int64  \n",
            " 1   visitor       18 non-null     int64  \n",
            " 2   level         18 non-null     float64\n",
            " 3   코로나_발생후_경과시간  18 non-null     int64  \n",
            "dtypes: float64(1), int64(3)\n",
            "memory usage: 704.0 bytes\n"
          ],
          "name": "stdout"
        }
      ]
    },
    {
      "cell_type": "code",
      "metadata": {
        "colab": {
          "base_uri": "https://localhost:8080/"
        },
        "id": "hBWrXQcsgZFY",
        "outputId": "4a7478bc-6bd4-4343-87ca-6643e2acee09"
      },
      "source": [
        "독립 = df[['코로나_발생후_경과시간', 'level']]\n",
        "종속 = df[['visitor']]\n",
        "독립.shape, 종속.shape"
      ],
      "execution_count": 9,
      "outputs": [
        {
          "output_type": "execute_result",
          "data": {
            "text/plain": [
              "((18, 2), (18, 1))"
            ]
          },
          "metadata": {
            "tags": []
          },
          "execution_count": 9
        }
      ]
    },
    {
      "cell_type": "code",
      "metadata": {
        "id": "Iizs4UHDggvq"
      },
      "source": [
        "X = tf.keras.layers.Input(shape=[2]) # 독립변수의 col\n",
        "H = tf.keras.layers.Dense(200, activation='swish')(X)\n",
        "H = tf.keras.layers.Dense(200, activation='swish')(H)\n",
        "H = tf.keras.layers.Dense(200, activation='swish')(H)\n",
        "H = tf.keras.layers.Dense(200, activation='swish')(H)\n",
        "H = tf.keras.layers.Dense(200, activation='swish')(H)\n",
        "Y = tf.keras.layers.Dense(1)(H) # 종속변수의 col\n",
        "model = tf.keras.models.Model(X, Y)\n",
        "model.compile(loss='mse') # MSE(Mean squared error)"
      ],
      "execution_count": 15,
      "outputs": []
    },
    {
      "cell_type": "markdown",
      "metadata": {
        "id": "14G14UhanDp-"
      },
      "source": [
        "* 히든레이어 2개, 각 레이어 노드 200개, 10000\n",
        "loss = 47973883904\n",
        "\n",
        "* 히든레이어 1개, 각 레이어 노드 200개, 100000\n",
        "loss = 49393979392\n",
        "\n",
        "* 히든레이어 3개, 각 레이어 노드 200개, 10000\n",
        "loss = 12949462016\n",
        "\n",
        "* 히든레이어 5개, 각 레이어 노드 200개, 10000\n",
        "loss = 1270642432\n",
        "\n",
        "* 히든레이어 5개, 각 레이어 노드 200개, 100000\n",
        "loss = 72102568"
      ]
    },
    {
      "cell_type": "code",
      "metadata": {
        "colab": {
          "base_uri": "https://localhost:8080/"
        },
        "id": "eQg58mITgtFX",
        "outputId": "543846da-f051-4bb3-97a6-4a9b155c5719"
      },
      "source": [
        "model.fit(독립, 종속, epochs=100000, verbose=0)\n",
        "model.fit(독립, 종속, epochs=10)"
      ],
      "execution_count": 17,
      "outputs": [
        {
          "output_type": "stream",
          "text": [
            "Epoch 1/10\n",
            "1/1 [==============================] - 0s 8ms/step - loss: 72102568.0000\n",
            "Epoch 2/10\n",
            "1/1 [==============================] - 0s 7ms/step - loss: 93186336.0000\n",
            "Epoch 3/10\n",
            "1/1 [==============================] - 0s 7ms/step - loss: 141877216.0000\n",
            "Epoch 4/10\n",
            "1/1 [==============================] - 0s 6ms/step - loss: 190945200.0000\n",
            "Epoch 5/10\n",
            "1/1 [==============================] - 0s 7ms/step - loss: 192400016.0000\n",
            "Epoch 6/10\n",
            "1/1 [==============================] - 0s 7ms/step - loss: 116532744.0000\n",
            "Epoch 7/10\n",
            "1/1 [==============================] - 0s 7ms/step - loss: 78797000.0000\n",
            "Epoch 8/10\n",
            "1/1 [==============================] - 0s 6ms/step - loss: 55915380.0000\n",
            "Epoch 9/10\n",
            "1/1 [==============================] - 0s 5ms/step - loss: 55733532.0000\n",
            "Epoch 10/10\n",
            "1/1 [==============================] - 0s 6ms/step - loss: 75061488.0000\n"
          ],
          "name": "stdout"
        },
        {
          "output_type": "execute_result",
          "data": {
            "text/plain": [
              "<tensorflow.python.keras.callbacks.History at 0x7fed194607d0>"
            ]
          },
          "metadata": {
            "tags": []
          },
          "execution_count": 17
        }
      ]
    },
    {
      "cell_type": "code",
      "metadata": {
        "colab": {
          "base_uri": "https://localhost:8080/"
        },
        "id": "xDYBELA9guR4",
        "outputId": "7b8e8511-34fb-4f9d-c941-894764450705"
      },
      "source": [
        "model.predict(독립)"
      ],
      "execution_count": 18,
      "outputs": [
        {
          "output_type": "execute_result",
          "data": {
            "text/plain": [
              "array([[1089340.  ],\n",
              "       [ 588761.75],\n",
              "       [ 468518.06],\n",
              "       [ 530718.8 ],\n",
              "       [ 755355.2 ],\n",
              "       [ 849133.6 ],\n",
              "       [ 975736.1 ],\n",
              "       [1112273.8 ],\n",
              "       [ 711680.8 ],\n",
              "       [1059606.8 ],\n",
              "       [1122810.5 ],\n",
              "       [ 610957.2 ],\n",
              "       [ 455881.16],\n",
              "       [ 783005.1 ],\n",
              "       [ 885669.9 ],\n",
              "       [1074222.6 ],\n",
              "       [1126758.2 ],\n",
              "       [1121900.8 ]], dtype=float32)"
            ]
          },
          "metadata": {
            "tags": []
          },
          "execution_count": 18
        }
      ]
    },
    {
      "cell_type": "code",
      "metadata": {
        "colab": {
          "base_uri": "https://localhost:8080/",
          "height": 275
        },
        "id": "iemU-O7ojZvz",
        "outputId": "1957bd6e-3e54-462e-f6a6-3527f5d507bd"
      },
      "source": [
        "plt.plot(np.arange(1, 19), model.predict(독립), label='예측값')\n",
        "plt.plot(np.arange(1, 19), 종속, label='실제값')\n",
        "\n",
        "plt.legend()\n",
        "plt.show()"
      ],
      "execution_count": 19,
      "outputs": [
        {
          "output_type": "display_data",
          "data": {
            "image/png": "[encoded data removed]",
            "text/plain": [
              "<Figure size 432x288 with 1 Axes>"
            ]
          },
          "metadata": {
            "tags": [],
            "needs_background": "light"
          }
        }
      ]
    },
    {
      "cell_type": "code",
      "metadata": {
        "colab": {
          "base_uri": "https://localhost:8080/"
        },
        "id": "lbF2dm-fnLrn",
        "outputId": "f0c6e0fb-c249-4728-f829-97ca2d4db514"
      },
      "source": [
        "model.predict([[19, 2]]) #19가 21년 7월, 2단계"
      ],
      "execution_count": 20,
      "outputs": [
        {
          "output_type": "execute_result",
          "data": {
            "text/plain": [
              "array([[1231509.2]], dtype=float32)"
            ]
          },
          "metadata": {
            "tags": []
          },
          "execution_count": 20
        }
      ]
    },
    {
      "cell_type": "code",
      "metadata": {
        "colab": {
          "base_uri": "https://localhost:8080/"
        },
        "id": "tgTvqOdbnZ0b",
        "outputId": "49637ff8-4f19-4bdd-e5ed-e9b8902a68cf"
      },
      "source": [
        "model.predict([[19, 3]]) #19가 21년 7월, 3단계"
      ],
      "execution_count": 21,
      "outputs": [
        {
          "output_type": "execute_result",
          "data": {
            "text/plain": [
              "array([[590432.25]], dtype=float32)"
            ]
          },
          "metadata": {
            "tags": []
          },
          "execution_count": 21
        }
      ]
    },
    {
      "cell_type": "code",
      "metadata": {
        "colab": {
          "base_uri": "https://localhost:8080/"
        },
        "id": "C1HI7sZonb0E",
        "outputId": "34965307-7af0-43b5-fbe8-a2cf248229d5"
      },
      "source": [
        "model.predict([[20, 2]]) #20가 21년 8월, 2단계"
      ],
      "execution_count": 23,
      "outputs": [
        {
          "output_type": "execute_result",
          "data": {
            "text/plain": [
              "array([[1261329.1]], dtype=float32)"
            ]
          },
          "metadata": {
            "tags": []
          },
          "execution_count": 23
        }
      ]
    },
    {
      "cell_type": "code",
      "metadata": {
        "colab": {
          "base_uri": "https://localhost:8080/"
        },
        "id": "NA_Wr99ZnfUb",
        "outputId": "48b7ecf2-453a-4cb3-9521-68d280742859"
      },
      "source": [
        "model.predict([[20, 3]]) #20가 21년 8월, 3단계"
      ],
      "execution_count": 24,
      "outputs": [
        {
          "output_type": "execute_result",
          "data": {
            "text/plain": [
              "array([[637242.94]], dtype=float32)"
            ]
          },
          "metadata": {
            "tags": []
          },
          "execution_count": 24
        }
      ]
    },
    {
      "cell_type": "code",
      "metadata": {
        "colab": {
          "base_uri": "https://localhost:8080/"
        },
        "id": "fE0AXMCyniph",
        "outputId": "1a64afdd-5dbc-4685-f6dd-1f832fdc66f4"
      },
      "source": [
        "model.predict([[21, 2]]) #21가 21년 9월, 2단계"
      ],
      "execution_count": 25,
      "outputs": [
        {
          "output_type": "execute_result",
          "data": {
            "text/plain": [
              "array([[1283802.9]], dtype=float32)"
            ]
          },
          "metadata": {
            "tags": []
          },
          "execution_count": 25
        }
      ]
    },
    {
      "cell_type": "code",
      "metadata": {
        "id": "lHPY2pkknl5I",
        "outputId": "e66b525d-f1b1-4c35-ab6d-8274a7541d48",
        "colab": {
          "base_uri": "https://localhost:8080/"
        }
      },
      "source": [
        "model.predict([[21, 3]]) #21가 21년 9월, 3단계"
      ],
      "execution_count": 26,
      "outputs": [
        {
          "output_type": "execute_result",
          "data": {
            "text/plain": [
              "array([[672937.]], dtype=float32)"
            ]
          },
          "metadata": {
            "tags": []
          },
          "execution_count": 26
        }
      ]
    }
  ]
}