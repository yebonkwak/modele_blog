{
  "nbformat": 4,
  "nbformat_minor": 0,
  "metadata": {
    "colab": {
      "name": "2021_07_05.데이터분석_Python.ipynb",
      "provenance": [],
      "collapsed_sections": []
    },
    "kernelspec": {
      "name": "python3",
      "display_name": "Python 3"
    },
    "language_info": {
      "name": "python"
    }
  },
  "cells": [
    {
      "cell_type": "markdown",
      "metadata": {
        "id": "ouycYXLWMT-x"
      },
      "source": [
        "# \"데이터 분석 Python 기초 문법 노트북\"\n",
        ">\"2021년 여름방학 데이터분석을 위한 Python 기초문법\"\n",
        "\n",
        "- toc:true\n",
        "_ branch: master\n",
        "- badges: true\n",
        "- comments: true\n",
        "- author: kwakyebon\n",
        "- categories: [python. 데이터분석]"
      ]
    },
    {
      "cell_type": "code",
      "metadata": {
        "colab": {
          "base_uri": "https://localhost:8080/"
        },
        "id": "HLD9hHBPXmQ2",
        "outputId": "7b8e1f7f-6ad5-4fd4-f7b5-d82047060fb4"
      },
      "source": [
        "x = 3\n",
        "\n",
        "y = 7\n",
        "\n",
        "x + y"
      ],
      "execution_count": null,
      "outputs": [
        {
          "output_type": "execute_result",
          "data": {
            "text/plain": [
              "10"
            ]
          },
          "metadata": {
            "tags": []
          },
          "execution_count": 1
        }
      ]
    },
    {
      "cell_type": "markdown",
      "metadata": {
        "id": "eiO5IQafYPJE"
      },
      "source": [
        "# 마크다운\n",
        "## 마크다운\n",
        "### 마크다운\n",
        "\n",
        "\n",
        "* hello world\n",
        "* hello world\n",
        "* hello world\n",
        "\n",
        "1. hello world\n",
        "1. hello world\n",
        "1. hello world\n",
        "\n"
      ]
    },
    {
      "cell_type": "markdown",
      "metadata": {
        "id": "1nsGSbUDbAnD"
      },
      "source": [
        "## 변수"
      ]
    },
    {
      "cell_type": "markdown",
      "metadata": {
        "id": "eV-J9ThtbEyQ"
      },
      "source": [
        "* 대문자와 소문자는 다릅니다!\n",
        "* 변수명에 띄어쓰기를 쓰지 않습니다!\n",
        "* 맨 앞에 숫자를 사용하지 않습니다.\n",
        "* 카멜 표기법이나 스네이크 표기법 중 일반 \n",
        "변수는 스네이크 표기법을 사용합니다.\n",
        "* for, if, print, sum 등 이미 예약되어 있는 것은 변수로 사용하지 않습니다. "
      ]
    },
    {
      "cell_type": "code",
      "metadata": {
        "colab": {
          "base_uri": "https://localhost:8080/"
        },
        "id": "Jd_XNXhUa-GZ",
        "outputId": "9b681786-1529-4a73-df29-f8aa4c9b7249"
      },
      "source": [
        "x = 3\n",
        "y = 7\n",
        "\n",
        "x + y\n",
        "x - y\n",
        "x * y\n",
        "x // y\n"
      ],
      "execution_count": null,
      "outputs": [
        {
          "output_type": "execute_result",
          "data": {
            "text/plain": [
              "0"
            ]
          },
          "metadata": {
            "tags": []
          },
          "execution_count": 5
        }
      ]
    },
    {
      "cell_type": "code",
      "metadata": {
        "colab": {
          "base_uri": "https://localhost:8080/"
        },
        "id": "JNQ7mPkBbsNS",
        "outputId": "74e59a7f-76d8-4586-ab9e-c706e2e87cb0"
      },
      "source": [
        "x = 3\n",
        "y = 7\n",
        "print(x + y)\n",
        "print(x - y)\n",
        "print(x * y)\n",
        "print(x // y)"
      ],
      "execution_count": null,
      "outputs": [
        {
          "output_type": "stream",
          "text": [
            "10\n",
            "-4\n",
            "21\n",
            "0\n"
          ],
          "name": "stdout"
        }
      ]
    },
    {
      "cell_type": "code",
      "metadata": {
        "colab": {
          "base_uri": "https://localhost:8080/"
        },
        "id": "gq1khLhFcRAj",
        "outputId": "3a1ace4c-78d2-4894-ddbe-3160419a7bfc"
      },
      "source": [
        "a = 10\n",
        "b = '10'\n",
        "print(a + a)\n",
        "print(b + b)\n"
      ],
      "execution_count": null,
      "outputs": [
        {
          "output_type": "stream",
          "text": [
            "20\n",
            "1010\n"
          ],
          "name": "stdout"
        }
      ]
    },
    {
      "cell_type": "code",
      "metadata": {
        "colab": {
          "base_uri": "https://localhost:8080/"
        },
        "id": "R9ao5jeDc7sy",
        "outputId": "2060d898-b76d-4dcb-b9e1-9cd3931a2bcb"
      },
      "source": [
        "a = 10 # int : 정수\n",
        "b = '10' # str : 문자\n",
        "c = 'lee'\n",
        "d = 'hojun'\n",
        "e = True # bool : 불리언\n",
        "f = 10.1 # float : 실수\n",
        "print(type(a))\n"
      ],
      "execution_count": null,
      "outputs": [
        {
          "output_type": "stream",
          "text": [
            "<class 'int'>\n"
          ],
          "name": "stdout"
        }
      ]
    },
    {
      "cell_type": "code",
      "metadata": {
        "colab": {
          "base_uri": "https://localhost:8080/"
        },
        "id": "troRTIYXd2CS",
        "outputId": "6fdd24a9-83db-4476-f147-acfb469f6c8f"
      },
      "source": [
        "3 > 10"
      ],
      "execution_count": null,
      "outputs": [
        {
          "output_type": "execute_result",
          "data": {
            "text/plain": [
              "False"
            ]
          },
          "metadata": {
            "tags": []
          },
          "execution_count": 14
        }
      ]
    },
    {
      "cell_type": "code",
      "metadata": {
        "colab": {
          "base_uri": "https://localhost:8080/",
          "height": 172
        },
        "id": "Sq_CF_rZeKJC",
        "outputId": "db6efedc-4b87-4ce0-eee4-731cc89f785f"
      },
      "source": [
        "a + b"
      ],
      "execution_count": null,
      "outputs": [
        {
          "output_type": "error",
          "ename": "TypeError",
          "evalue": "ignored",
          "traceback": [
            "\u001b[0;31m---------------------------------------------------------------------------\u001b[0m",
            "\u001b[0;31mTypeError\u001b[0m                                 Traceback (most recent call last)",
            "\u001b[0;32m<ipython-input-15-bd58363a63fc>\u001b[0m in \u001b[0;36m<module>\u001b[0;34m()\u001b[0m\n\u001b[0;32m----> 1\u001b[0;31m \u001b[0ma\u001b[0m \u001b[0;34m+\u001b[0m \u001b[0mb\u001b[0m\u001b[0;34m\u001b[0m\u001b[0;34m\u001b[0m\u001b[0m\n\u001b[0m",
            "\u001b[0;31mTypeError\u001b[0m: unsupported operand type(s) for +: 'int' and 'str'"
          ]
        }
      ]
    },
    {
      "cell_type": "code",
      "metadata": {
        "colab": {
          "base_uri": "https://localhost:8080/"
        },
        "id": "Vs_6MkGreali",
        "outputId": "72b271eb-bc6f-4c21-9f50-3f192f0524d4"
      },
      "source": [
        "a = [10, 20, 30, 10.1, 20.1, 30.1, 'hojun'] # list\n",
        "b = (10., 20, 30) # tuple\n",
        "c = {10., 20, 30, 30, 30} # set\n",
        "d = {'one':1, 'two':2} # dict\n",
        "print(type(a))"
      ],
      "execution_count": null,
      "outputs": [
        {
          "output_type": "stream",
          "text": [
            "<class 'list'>\n"
          ],
          "name": "stdout"
        }
      ]
    },
    {
      "cell_type": "code",
      "metadata": {
        "colab": {
          "base_uri": "https://localhost:8080/"
        },
        "id": "RgbaWoL5feJa",
        "outputId": "522a0a1d-c2f7-4df8-9d61-6f2bbb458c6a"
      },
      "source": [
        "a.pop()\n",
        "sum(a)"
      ],
      "execution_count": null,
      "outputs": [
        {
          "output_type": "execute_result",
          "data": {
            "text/plain": [
              "90.19999999999999"
            ]
          },
          "metadata": {
            "tags": []
          },
          "execution_count": 19
        }
      ]
    },
    {
      "cell_type": "markdown",
      "metadata": {
        "id": "9RDVVb_WgVbx"
      },
      "source": [
        "## 형변환"
      ]
    },
    {
      "cell_type": "code",
      "metadata": {
        "colab": {
          "base_uri": "https://localhost:8080/"
        },
        "id": "Pe3XjxJfjfbJ",
        "outputId": "3418e144-f297-4995-88a1-173387957ff5"
      },
      "source": [
        "a = 10\n",
        "b = '10'\n",
        "print(str(a) + b)\n",
        "print(a + int(b))"
      ],
      "execution_count": null,
      "outputs": [
        {
          "output_type": "stream",
          "text": [
            "1010\n",
            "20\n"
          ],
          "name": "stdout"
        }
      ]
    },
    {
      "cell_type": "markdown",
      "metadata": {
        "id": "FWsug1pckvfp"
      },
      "source": [
        "## 산술연산"
      ]
    },
    {
      "cell_type": "code",
      "metadata": {
        "colab": {
          "base_uri": "https://localhost:8080/"
        },
        "id": "FYUfn9BHkzUZ",
        "outputId": "cd5d7f7a-cff9-4111-d32e-54edfde34662"
      },
      "source": [
        "a = 7\n",
        "b = 3\n",
        "print (a + b)\n",
        "print (a - b)\n",
        "print (a * b)\n",
        "print (a / b)\n",
        "print (a // b)\n",
        "print (a ** b)\n",
        "print (a % b)\n"
      ],
      "execution_count": null,
      "outputs": [
        {
          "output_type": "stream",
          "text": [
            "10\n",
            "4\n",
            "21\n",
            "2.3333333333333335\n",
            "2\n",
            "343\n"
          ],
          "name": "stdout"
        }
      ]
    },
    {
      "cell_type": "markdown",
      "metadata": {
        "id": "QiacoOi6mBAp"
      },
      "source": [
        "## 비교연산"
      ]
    },
    {
      "cell_type": "code",
      "metadata": {
        "colab": {
          "base_uri": "https://localhost:8080/"
        },
        "id": "-i-2lxw0mElx",
        "outputId": "0b215d9c-b800-4d29-fe5f-701994bff2d6"
      },
      "source": [
        "a = 3\n",
        "b = b\n",
        "print(a > b)\n",
        "print(a >= b)\n",
        "print(a < b)\n",
        "print(a <= b)\n",
        "print(a == b)\n",
        "print(a != b)\n"
      ],
      "execution_count": null,
      "outputs": [
        {
          "output_type": "stream",
          "text": [
            "False\n",
            "True\n",
            "False\n",
            "True\n",
            "True\n",
            "False\n"
          ],
          "name": "stdout"
        }
      ]
    },
    {
      "cell_type": "markdown",
      "metadata": {
        "id": "wVn-iW4joxJZ"
      },
      "source": [
        "## 논리연산"
      ]
    },
    {
      "cell_type": "code",
      "metadata": {
        "id": "f-aD2Yf6pAuw"
      },
      "source": [
        "# 주석입니다. 주석은 실행하지 않습니다.\n",
        "a = 10\n",
        "b = 20\n",
        "a + b "
      ],
      "execution_count": null,
      "outputs": []
    },
    {
      "cell_type": "code",
      "metadata": {
        "colab": {
          "base_uri": "https://localhost:8080/"
        },
        "id": "cOsZ0GdAoznI",
        "outputId": "46aff20c-fe87-4930-a345-e1f26a48e847"
      },
      "source": [
        "a = True #1\n",
        "b = False #0\n",
        "\n",
        "print(a and b)\n",
        "print(a or b)\n",
        "print(not a)"
      ],
      "execution_count": null,
      "outputs": [
        {
          "output_type": "stream",
          "text": [
            "False\n",
            "True\n",
            "False\n"
          ],
          "name": "stdout"
        }
      ]
    },
    {
      "cell_type": "code",
      "metadata": {
        "colab": {
          "base_uri": "https://localhost:8080/"
        },
        "id": "oj95XB7eqmtq",
        "outputId": "81c1b77e-d56a-408b-b512-32762823b2ad"
      },
      "source": [
        "result = 0\n",
        "for i in range(1001):\n",
        "    if i % 3 == 0 or i % 5 == 0:\n",
        "        result = result + i\n",
        "\n",
        "print(result)"
      ],
      "execution_count": null,
      "outputs": [
        {
          "output_type": "stream",
          "text": [
            "234168\n"
          ],
          "name": "stdout"
        }
      ]
    },
    {
      "cell_type": "markdown",
      "metadata": {
        "id": "V0Ekns_Xw2Xg"
      },
      "source": [
        "## 문자열"
      ]
    },
    {
      "cell_type": "code",
      "metadata": {
        "id": "fSB_oaiXw51o"
      },
      "source": [
        "s = 'paullab CEO leehojun'\n"
      ],
      "execution_count": null,
      "outputs": []
    },
    {
      "cell_type": "code",
      "metadata": {
        "colab": {
          "base_uri": "https://localhost:8080/"
        },
        "id": "08jL0GGZxMIg",
        "outputId": "1582a4e3-a21f-43d1-91c2-763212b43ff5"
      },
      "source": [
        "s.count('l')"
      ],
      "execution_count": null,
      "outputs": [
        {
          "output_type": "execute_result",
          "data": {
            "text/plain": [
              "3"
            ]
          },
          "metadata": {
            "tags": []
          },
          "execution_count": 41
        }
      ]
    },
    {
      "cell_type": "code",
      "metadata": {
        "colab": {
          "base_uri": "https://localhost:8080/"
        },
        "id": "lo0APNhOxiyi",
        "outputId": "acbe4ee8-3edb-44fc-8a29-889912a7eb10"
      },
      "source": [
        "s.count(' ')"
      ],
      "execution_count": null,
      "outputs": [
        {
          "output_type": "execute_result",
          "data": {
            "text/plain": [
              "2"
            ]
          },
          "metadata": {
            "tags": []
          },
          "execution_count": 43
        }
      ]
    },
    {
      "cell_type": "code",
      "metadata": {
        "colab": {
          "base_uri": "https://localhost:8080/",
          "height": 35
        },
        "id": "t1k867WJx2yX",
        "outputId": "de81a736-ac18-445e-f746-80242162350c"
      },
      "source": [
        "s.upper()"
      ],
      "execution_count": null,
      "outputs": [
        {
          "output_type": "execute_result",
          "data": {
            "application/vnd.google.colaboratory.intrinsic+json": {
              "type": "string"
            },
            "text/plain": [
              "'PAULLAB CEO LEEHOJUN'"
            ]
          },
          "metadata": {
            "tags": []
          },
          "execution_count": 44
        }
      ]
    },
    {
      "cell_type": "code",
      "metadata": {
        "colab": {
          "base_uri": "https://localhost:8080/",
          "height": 35
        },
        "id": "EDgDsxLsx9Iu",
        "outputId": "e5baa33f-eadf-42ce-cc73-7fa737241774"
      },
      "source": [
        "s.lower()"
      ],
      "execution_count": null,
      "outputs": [
        {
          "output_type": "execute_result",
          "data": {
            "application/vnd.google.colaboratory.intrinsic+json": {
              "type": "string"
            },
            "text/plain": [
              "'paullab ceo leehojun'"
            ]
          },
          "metadata": {
            "tags": []
          },
          "execution_count": 45
        }
      ]
    },
    {
      "cell_type": "code",
      "metadata": {
        "colab": {
          "base_uri": "https://localhost:8080/"
        },
        "id": "lkU1Nz-vx_u_",
        "outputId": "0906efd2-e143-45b8-d0c0-74327f29b749"
      },
      "source": [
        "s.split(' ')"
      ],
      "execution_count": null,
      "outputs": [
        {
          "output_type": "execute_result",
          "data": {
            "text/plain": [
              "['paullab', 'CEO', 'leehojun']"
            ]
          },
          "metadata": {
            "tags": []
          },
          "execution_count": 46
        }
      ]
    },
    {
      "cell_type": "code",
      "metadata": {
        "colab": {
          "base_uri": "https://localhost:8080/",
          "height": 35
        },
        "id": "W0K5PJUZyEmX",
        "outputId": "b6bc2c60-ed70-4dc6-d03d-35ccd82f19c6"
      },
      "source": [
        "'-'.join(['a', 'b', 'c'])"
      ],
      "execution_count": null,
      "outputs": [
        {
          "output_type": "execute_result",
          "data": {
            "application/vnd.google.colaboratory.intrinsic+json": {
              "type": "string"
            },
            "text/plain": [
              "'a-b-c'"
            ]
          },
          "metadata": {
            "tags": []
          },
          "execution_count": 48
        }
      ]
    },
    {
      "cell_type": "code",
      "metadata": {
        "colab": {
          "base_uri": "https://localhost:8080/",
          "height": 35
        },
        "id": "gOtvksUfy4dQ",
        "outputId": "46ef0c56-6f26-43f8-a12d-6d7c8bb32ad2"
      },
      "source": [
        "d = s.split(' ')\n",
        "'-'.join(d)"
      ],
      "execution_count": null,
      "outputs": [
        {
          "output_type": "execute_result",
          "data": {
            "application/vnd.google.colaboratory.intrinsic+json": {
              "type": "string"
            },
            "text/plain": [
              "'paullab-CEO-leehojun'"
            ]
          },
          "metadata": {
            "tags": []
          },
          "execution_count": 50
        }
      ]
    },
    {
      "cell_type": "code",
      "metadata": {
        "colab": {
          "base_uri": "https://localhost:8080/"
        },
        "id": "0qkaxqbyzrlw",
        "outputId": "f42d75e6-a175-4eea-d4b9-c0407e14b9e1"
      },
      "source": [
        "dir(s)"
      ],
      "execution_count": null,
      "outputs": [
        {
          "output_type": "execute_result",
          "data": {
            "text/plain": [
              "['__add__',\n",
              " '__class__',\n",
              " '__contains__',\n",
              " '__delattr__',\n",
              " '__dir__',\n",
              " '__doc__',\n",
              " '__eq__',\n",
              " '__format__',\n",
              " '__ge__',\n",
              " '__getattribute__',\n",
              " '__getitem__',\n",
              " '__getnewargs__',\n",
              " '__gt__',\n",
              " '__hash__',\n",
              " '__init__',\n",
              " '__init_subclass__',\n",
              " '__iter__',\n",
              " '__le__',\n",
              " '__len__',\n",
              " '__lt__',\n",
              " '__mod__',\n",
              " '__mul__',\n",
              " '__ne__',\n",
              " '__new__',\n",
              " '__reduce__',\n",
              " '__reduce_ex__',\n",
              " '__repr__',\n",
              " '__rmod__',\n",
              " '__rmul__',\n",
              " '__setattr__',\n",
              " '__sizeof__',\n",
              " '__str__',\n",
              " '__subclasshook__',\n",
              " 'capitalize',\n",
              " 'casefold',\n",
              " 'center',\n",
              " 'count',\n",
              " 'encode',\n",
              " 'endswith',\n",
              " 'expandtabs',\n",
              " 'find',\n",
              " 'format',\n",
              " 'format_map',\n",
              " 'index',\n",
              " 'isalnum',\n",
              " 'isalpha',\n",
              " 'isascii',\n",
              " 'isdecimal',\n",
              " 'isdigit',\n",
              " 'isidentifier',\n",
              " 'islower',\n",
              " 'isnumeric',\n",
              " 'isprintable',\n",
              " 'isspace',\n",
              " 'istitle',\n",
              " 'isupper',\n",
              " 'join',\n",
              " 'ljust',\n",
              " 'lower',\n",
              " 'lstrip',\n",
              " 'maketrans',\n",
              " 'partition',\n",
              " 'replace',\n",
              " 'rfind',\n",
              " 'rindex',\n",
              " 'rjust',\n",
              " 'rpartition',\n",
              " 'rsplit',\n",
              " 'rstrip',\n",
              " 'split',\n",
              " 'splitlines',\n",
              " 'startswith',\n",
              " 'strip',\n",
              " 'swapcase',\n",
              " 'title',\n",
              " 'translate',\n",
              " 'upper',\n",
              " 'zfill']"
            ]
          },
          "metadata": {
            "tags": []
          },
          "execution_count": 51
        }
      ]
    },
    {
      "cell_type": "code",
      "metadata": {
        "colab": {
          "base_uri": "https://localhost:8080/"
        },
        "id": "mWKkYv6az-XH",
        "outputId": "4e9ca2f6-6376-4b94-ba3f-781a9cec4f5c"
      },
      "source": [
        "s ='    hello world'\n",
        "print(s)\n",
        "print(s.strip())\n",
        "print(s.replace(' ',''))\n"
      ],
      "execution_count": null,
      "outputs": [
        {
          "output_type": "stream",
          "text": [
            "    hello world\n",
            "hello world\n",
            "helloworld\n"
          ],
          "name": "stdout"
        }
      ]
    },
    {
      "cell_type": "markdown",
      "metadata": {
        "id": "vGGyTU_lcVRR"
      },
      "source": [
        "## 리스트\n",
        "\n",
        "* 순서가 있고, 수정이 가능합니다."
      ]
    },
    {
      "cell_type": "code",
      "metadata": {
        "colab": {
          "base_uri": "https://localhost:8080/"
        },
        "id": "XVoXfUU0cs6N",
        "outputId": "cb409ac6-a3bd-4a88-a27c-2136fdfa9138"
      },
      "source": [
        "a = [10, 20, 30, 40, 50, 60, 70, 15]\n",
        "a\n",
        "a[0] # 0은 인덱스이고, a[0] 호출하는 것을 indexing이라고 합니다.\n",
        "a[0], a[1], a[2], a[3], a[4]\n",
        "a[0:5] # 슬라이싱, 자료형[start:stop:step]\n",
        "a[::2] # 슬라이싱, 자료형[start:stop:step], 안써요...\n",
        "a[::-1] # 슬라이싱, 자료형[start:stop:step]\n",
        "a[0] = 1000\n",
        "a"
      ],
      "execution_count": null,
      "outputs": [
        {
          "output_type": "execute_result",
          "data": {
            "text/plain": [
              "[1000, 20, 30, 40, 50, 60, 70, 15]"
            ]
          },
          "metadata": {
            "tags": []
          },
          "execution_count": 5
        }
      ]
    },
    {
      "cell_type": "code",
      "metadata": {
        "colab": {
          "base_uri": "https://localhost:8080/"
        },
        "id": "y5orJGf0eeZv",
        "outputId": "7f5bab3e-fb48-4117-86ca-95201468864b"
      },
      "source": [
        "dir(a)\n",
        "\n",
        "a.append(10) # 값을 맨 뒤에 추가합니다. 잘써요!\n",
        "a.clear() # a에 모든 값을 비웁니다. 안써요...\n",
        "a.copy() # a에 모든 값을 복사합니다.\n",
        "a.count() # a에서 특정한 값의 개수를 찾습니다. 잘써요!\n",
        "a.extend([10, 20, 30]) # a에 맨 뒤에 여러개의 값을 추가합니다.\n",
        "a.index() # a에서 특정한 값의 인덱스를 찾습니다.\n",
        "a.insert(2, 10000) # a에 중간에 값을 삽입합니다.\n",
        "a.pop() # a에 맨 뒤에 값을 빼냅니다. 빼낸 값은 삭제됩니다. 잘써요!\n",
        "a.remove(10000) # a에 특정한 값을 삭제합니다.\n",
        "a.reverse() # a에 값을 뒤집습니다. 잘써요!\n",
        "a.sort() # a의 값을 정렬합니다. 잘써요!"
      ],
      "execution_count": null,
      "outputs": [
        {
          "output_type": "execute_result",
          "data": {
            "text/plain": [
              "['__add__',\n",
              " '__class__',\n",
              " '__contains__',\n",
              " '__delattr__',\n",
              " '__delitem__',\n",
              " '__dir__',\n",
              " '__doc__',\n",
              " '__eq__',\n",
              " '__format__',\n",
              " '__ge__',\n",
              " '__getattribute__',\n",
              " '__getitem__',\n",
              " '__gt__',\n",
              " '__hash__',\n",
              " '__iadd__',\n",
              " '__imul__',\n",
              " '__init__',\n",
              " '__init_subclass__',\n",
              " '__iter__',\n",
              " '__le__',\n",
              " '__len__',\n",
              " '__lt__',\n",
              " '__mul__',\n",
              " '__ne__',\n",
              " '__new__',\n",
              " '__reduce__',\n",
              " '__reduce_ex__',\n",
              " '__repr__',\n",
              " '__reversed__',\n",
              " '__rmul__',\n",
              " '__setattr__',\n",
              " '__setitem__',\n",
              " '__sizeof__',\n",
              " '__str__',\n",
              " '__subclasshook__',\n",
              " 'append',\n",
              " 'clear',\n",
              " 'copy',\n",
              " 'count',\n",
              " 'extend',\n",
              " 'index',\n",
              " 'insert',\n",
              " 'pop',\n",
              " 'remove',\n",
              " 'reverse',\n",
              " 'sort']"
            ]
          },
          "metadata": {
            "tags": []
          },
          "execution_count": 6
        }
      ]
    },
    {
      "cell_type": "code",
      "metadata": {
        "colab": {
          "base_uri": "https://localhost:8080/"
        },
        "id": "tbzW8wySgZ21",
        "outputId": "29b0beb1-18fd-48dd-f8be-daebd6bb51fa"
      },
      "source": [
        "a.append(100)\n",
        "a.append(100)\n",
        "a"
      ],
      "execution_count": null,
      "outputs": [
        {
          "output_type": "execute_result",
          "data": {
            "text/plain": [
              "[1000, 20, 30, 40, 50, 60, 70, 15, 100, 100, 100, 100, 100, 100]"
            ]
          },
          "metadata": {
            "tags": []
          },
          "execution_count": 9
        }
      ]
    },
    {
      "cell_type": "code",
      "metadata": {
        "colab": {
          "base_uri": "https://localhost:8080/"
        },
        "id": "OyhnCzbIgzMd",
        "outputId": "9d8b51d8-37e0-4cdb-ead4-36b1241bb84e"
      },
      "source": [
        "a.count(100)"
      ],
      "execution_count": null,
      "outputs": [
        {
          "output_type": "execute_result",
          "data": {
            "text/plain": [
              "6"
            ]
          },
          "metadata": {
            "tags": []
          },
          "execution_count": 10
        }
      ]
    },
    {
      "cell_type": "code",
      "metadata": {
        "colab": {
          "base_uri": "https://localhost:8080/"
        },
        "id": "XxLMbs-mg8Wk",
        "outputId": "d7290957-db4a-4a71-b465-e697bea63a7e"
      },
      "source": [
        "a.sort()\n",
        "a"
      ],
      "execution_count": null,
      "outputs": [
        {
          "output_type": "execute_result",
          "data": {
            "text/plain": [
              "[15, 20, 30, 40, 50, 60, 70, 100, 100, 100, 100, 100, 100, 1000]"
            ]
          },
          "metadata": {
            "tags": []
          },
          "execution_count": 11
        }
      ]
    },
    {
      "cell_type": "code",
      "metadata": {
        "colab": {
          "base_uri": "https://localhost:8080/"
        },
        "id": "vnZsWo50hAFU",
        "outputId": "6440acc9-6850-44a2-df07-0564797d7a72"
      },
      "source": [
        "a.reverse()\n",
        "a"
      ],
      "execution_count": null,
      "outputs": [
        {
          "output_type": "execute_result",
          "data": {
            "text/plain": [
              "[1000, 100, 100, 100, 100, 100, 100, 70, 60, 50, 40, 30, 20, 15]"
            ]
          },
          "metadata": {
            "tags": []
          },
          "execution_count": 12
        }
      ]
    },
    {
      "cell_type": "markdown",
      "metadata": {
        "id": "X-zpP-VmipiF"
      },
      "source": [
        "## 튜플, 딕셔너리, 셋"
      ]
    },
    {
      "cell_type": "code",
      "metadata": {
        "colab": {
          "base_uri": "https://localhost:8080/"
        },
        "id": "lTIoVfrriuxk",
        "outputId": "cc432993-b1af-4be7-d972-3c78a81aaf8c"
      },
      "source": [
        "# 튜플은 순서가 있고 값을 변경할 수 없습니다.\n",
        "\n",
        "t = (10, 20, 30)\n",
        "t"
      ],
      "execution_count": null,
      "outputs": [
        {
          "output_type": "execute_result",
          "data": {
            "text/plain": [
              "(10, 20, 30)"
            ]
          },
          "metadata": {
            "tags": []
          },
          "execution_count": 13
        }
      ]
    },
    {
      "cell_type": "code",
      "metadata": {
        "colab": {
          "base_uri": "https://localhost:8080/"
        },
        "id": "r5vN1FDEi6pU",
        "outputId": "64af248e-e7a9-4852-a6be-5c05966c5dd8"
      },
      "source": [
        "dir(t)"
      ],
      "execution_count": null,
      "outputs": [
        {
          "output_type": "execute_result",
          "data": {
            "text/plain": [
              "['__add__',\n",
              " '__class__',\n",
              " '__contains__',\n",
              " '__delattr__',\n",
              " '__dir__',\n",
              " '__doc__',\n",
              " '__eq__',\n",
              " '__format__',\n",
              " '__ge__',\n",
              " '__getattribute__',\n",
              " '__getitem__',\n",
              " '__getnewargs__',\n",
              " '__gt__',\n",
              " '__hash__',\n",
              " '__init__',\n",
              " '__init_subclass__',\n",
              " '__iter__',\n",
              " '__le__',\n",
              " '__len__',\n",
              " '__lt__',\n",
              " '__mul__',\n",
              " '__ne__',\n",
              " '__new__',\n",
              " '__reduce__',\n",
              " '__reduce_ex__',\n",
              " '__repr__',\n",
              " '__rmul__',\n",
              " '__setattr__',\n",
              " '__sizeof__',\n",
              " '__str__',\n",
              " '__subclasshook__',\n",
              " 'count',\n",
              " 'index']"
            ]
          },
          "metadata": {
            "tags": []
          },
          "execution_count": 14
        }
      ]
    },
    {
      "cell_type": "code",
      "metadata": {
        "colab": {
          "base_uri": "https://localhost:8080/",
          "height": 35
        },
        "id": "_SlaYE3RjbCf",
        "outputId": "6d72173e-112c-4cda-9ea7-5b7ce6edb3ca"
      },
      "source": [
        "# 딕셔너리 (key : value) 형태로 매칭\n",
        "\n",
        "영한번역 = {'one' : '하나', 'two': '둘'}\n",
        "영한번역['one']"
      ],
      "execution_count": null,
      "outputs": [
        {
          "output_type": "execute_result",
          "data": {
            "application/vnd.google.colaboratory.intrinsic+json": {
              "type": "string"
            },
            "text/plain": [
              "'하나'"
            ]
          },
          "metadata": {
            "tags": []
          },
          "execution_count": 15
        }
      ]
    },
    {
      "cell_type": "code",
      "metadata": {
        "colab": {
          "base_uri": "https://localhost:8080/"
        },
        "id": "WR_SwO9SnxzT",
        "outputId": "f13d11fb-0e3d-4638-b0ec-db17840363b2"
      },
      "source": [
        "# 셋 (집합, 합집합, 차집합, 교집합)\n",
        "s = {10, 20, 30, 30, 30}\n",
        "ss = {10, 40, 50}\n",
        "s | ss # 합집합\n",
        "s & ss # 교집합\n",
        "s - ss # 차집합"
      ],
      "execution_count": null,
      "outputs": [
        {
          "output_type": "execute_result",
          "data": {
            "text/plain": [
              "{20, 30}"
            ]
          },
          "metadata": {
            "tags": []
          },
          "execution_count": 17
        }
      ]
    },
    {
      "cell_type": "markdown",
      "metadata": {
        "id": "knmhr-t_ovO1"
      },
      "source": [
        "## f-string"
      ]
    },
    {
      "cell_type": "code",
      "metadata": {
        "colab": {
          "base_uri": "https://localhost:8080/"
        },
        "id": "gBNAsMiqo03j",
        "outputId": "7904783c-3b16-46bb-c228-b95531b62778"
      },
      "source": [
        "age = 10\n",
        "name = 'leehojun'\n",
        "print('제 이름은 leehojun 입니다. 제 나이는 10 살입니다')\n",
        "print('제 이름은', name, '입니다. 제 나이는', age, '살입니다.')\n",
        "print('제 이름은 {0} 입니다. 제 나이는 {1} 살입니다. '.format(name, age))\n",
        "print(f'제 이름은 {name} 입니다. 제 나이는 {age+age} 살입니다.') #이것만 씁시다!\n"
      ],
      "execution_count": null,
      "outputs": [
        {
          "output_type": "stream",
          "text": [
            "제 이름은 leehojun 입니다. 제 나이는 10 살입니다\n",
            "제 이름은 leehojun 입니다. 제 나이는 10 살입니다.\n",
            "제 이름은 leehojun 입니다. 제 나이는 10 살입니다. \n",
            "제 이름은 leehojun 입니다. 제 나이는 20 살입니다.\n"
          ],
          "name": "stdout"
        }
      ]
    },
    {
      "cell_type": "markdown",
      "metadata": {
        "id": "_eJ7PGpiru77"
      },
      "source": [
        "## built in function\n",
        "* abs() : 절댓값\n",
        "* min() : 최솟값\n",
        "* max() : 최댓값\n",
        "* dir() : 매서드 확인\n",
        "* id() : 메모리 주소 확인\n",
        "* sorted() : 정렬\n",
        "* reversed() : 역순(역정렬 아님)\n",
        "* enumerate() : 순서를 매김 (for 하면서 설명)\n",
        "*형변환:\n",
        "  * set() : 집합으로 형변환 \n",
        "  * dict() : 딕셔너리로 형변환\n",
        "  * bool() : 불리언으로 형변환\n",
        "  * int() : 정수형으로 형번환\n",
        "  * str() : 문자열로 형변환\n",
        "  * float() : 실수형으로 형변환\n",
        "  * tuple() : 튜플형으로 형번환\n",
        "  * list() : 리스트로 형변환\n",
        "* ord() : 문자를 숫자로 변환\n",
        "* chr() : 숫자를 문자로 변환\n",
        "* sum() : 숫자를 문자로 변환(더할 수 없으면 애러)\n",
        "* filter() : 필터링(수학점수 90점 이상인 사람?)\n",
        "* print() : 출력\n",
        "* format() : 콤마찍기\n",
        "* len() : 길이 출력!! 중요!!!!!\n",
        "* type() : 타입 알아보기 중요!!\n",
        "* range() : 연속된 값 생성(0 ~ 99 ->range(100))\n",
        "* zip('abc','def')\n",
        "* map(lambda x:x**2,[1,2,3])\n",
        "* round() : 소수점 자리 반올림\n"
      ]
    },
    {
      "cell_type": "code",
      "metadata": {
        "colab": {
          "base_uri": "https://localhost:8080/"
        },
        "id": "kRq6PKGjw-Va",
        "outputId": "97418a99-82a5-487c-8f2b-e9efc1f0a5b1"
      },
      "source": [
        "list(zip('abc','def', 'aaa'))"
      ],
      "execution_count": null,
      "outputs": [
        {
          "output_type": "execute_result",
          "data": {
            "text/plain": [
              "[('a', 'd', 'a'), ('b', 'e', 'a'), ('c', 'f', 'a')]"
            ]
          },
          "metadata": {
            "tags": []
          },
          "execution_count": 26
        }
      ]
    },
    {
      "cell_type": "code",
      "metadata": {
        "colab": {
          "base_uri": "https://localhost:8080/"
        },
        "id": "S3FMr9_oxElx",
        "outputId": "378875da-d054-4289-9dcf-79c938b57246"
      },
      "source": [
        "list(map(lambda x:x**2,[1,2,3]))"
      ],
      "execution_count": null,
      "outputs": [
        {
          "output_type": "execute_result",
          "data": {
            "text/plain": [
              "[1, 4, 9]"
            ]
          },
          "metadata": {
            "tags": []
          },
          "execution_count": 25
        }
      ]
    },
    {
      "cell_type": "markdown",
      "metadata": {
        "id": "59rZkDwE0K0R"
      },
      "source": [
        "## 조건문"
      ]
    },
    {
      "cell_type": "code",
      "metadata": {
        "colab": {
          "base_uri": "https://localhost:8080/"
        },
        "id": "E0jxCj7N1EHK",
        "outputId": "fa33361e-8d46-49c5-9475-3d2c13071c6f"
      },
      "source": [
        "if True:\n",
        "  print('hello')\n",
        "print('end')"
      ],
      "execution_count": null,
      "outputs": [
        {
          "output_type": "stream",
          "text": [
            "hello\n",
            "end\n"
          ],
          "name": "stdout"
        }
      ]
    },
    {
      "cell_type": "code",
      "metadata": {
        "colab": {
          "base_uri": "https://localhost:8080/"
        },
        "id": "AEkwbsvZ0Nzq",
        "outputId": "c9b1b47f-9ea9-43bd-9f3d-cc085ba7b4e8"
      },
      "source": [
        " score = 89\n",
        " money = 0\n",
        "\n",
        "if  score > 90:\n",
        "   print('mom: im so happy')\n",
        "   money += 1000000 # money = money + 1000000, 할당연산이라 부릅니다.\n",
        "elif  score > 80:\n",
        "   print('mom: im happy')\n",
        "   money += 100000\n",
        "elif  score > 70:\n",
        "   print('mom: happy?')\n",
        "   money += 10000\n",
        "else:\n",
        "   print('mom: ...')\n",
        "   \n",
        "print(money)"
      ],
      "execution_count": null,
      "outputs": [
        {
          "output_type": "stream",
          "text": [
            "mom: im happy\n",
            "100000\n"
          ],
          "name": "stdout"
        }
      ]
    },
    {
      "cell_type": "markdown",
      "metadata": {
        "id": "3Epy8aST2ovd"
      },
      "source": [
        "## 문제 풀이와 업다운 게임 제작"
      ]
    },
    {
      "cell_type": "code",
      "metadata": {
        "colab": {
          "base_uri": "https://localhost:8080/"
        },
        "id": "F2mMW-1U2roJ",
        "outputId": "bab91343-7379-4293-800b-5f13a247d25c"
      },
      "source": [
        "str(list(range(100)))\n",
        "str(list(range(100))).count('8')\n",
        "str(list(range(10001))).count('8')\n"
      ],
      "execution_count": null,
      "outputs": [
        {
          "output_type": "execute_result",
          "data": {
            "text/plain": [
              "4000"
            ]
          },
          "metadata": {
            "tags": []
          },
          "execution_count": 33
        }
      ]
    },
    {
      "cell_type": "code",
      "metadata": {
        "id": "Uyvadc424rA8"
      },
      "source": [
        "리스트 = [1, 3, 4, 8, 13, 17, 20]\n",
        "리스트둘 = 리스트[1:]"
      ],
      "execution_count": null,
      "outputs": []
    },
    {
      "cell_type": "code",
      "metadata": {
        "colab": {
          "base_uri": "https://localhost:8080/"
        },
        "id": "0ktiteON5IFA",
        "outputId": "7e2d08e7-7107-4971-cb02-f60b0c2b8afd"
      },
      "source": [
        "list(zip(리스트, 리스트둘))"
      ],
      "execution_count": null,
      "outputs": [
        {
          "output_type": "execute_result",
          "data": {
            "text/plain": [
              "[(1, 3), (3, 4), (4, 8), (8, 13), (13, 17), (17, 20)]"
            ]
          },
          "metadata": {
            "tags": []
          },
          "execution_count": 36
        }
      ]
    },
    {
      "cell_type": "code",
      "metadata": {
        "colab": {
          "base_uri": "https://localhost:8080/"
        },
        "id": "-z6p0fMz5WfQ",
        "outputId": "2b606bae-43db-4810-c740-1939435bb4a6"
      },
      "source": [
        "묶어준리스트 = list(zip(리스트, 리스트둘))\n",
        "묶어준리스트.sort(key=lambda x:x[0]-x[1], reverse=True)\n",
        "묶어준리스트\n",
        "묶어준리스트[0]"
      ],
      "execution_count": null,
      "outputs": [
        {
          "output_type": "execute_result",
          "data": {
            "text/plain": [
              "(3, 4)"
            ]
          },
          "metadata": {
            "tags": []
          },
          "execution_count": 41
        }
      ]
    },
    {
      "cell_type": "code",
      "metadata": {
        "colab": {
          "base_uri": "https://localhost:8080/"
        },
        "id": "lAKBiJfT6slZ",
        "outputId": "7b3b92d6-7fa6-4c11-a7d1-9a5d3aff603b"
      },
      "source": [
        "I = ['a', 'bbb', 'cc', 'eeeee', 'dddd']\n",
        "I.sort(key=len)\n",
        "I"
      ],
      "execution_count": null,
      "outputs": [
        {
          "output_type": "execute_result",
          "data": {
            "text/plain": [
              "['a', 'cc', 'bbb', 'dddd', 'eeeee']"
            ]
          },
          "metadata": {
            "tags": []
          },
          "execution_count": 44
        }
      ]
    },
    {
      "cell_type": "code",
      "metadata": {
        "colab": {
          "base_uri": "https://localhost:8080/"
        },
        "id": "L0syMowG7CRa",
        "outputId": "e8223092-0010-4467-9e93-54e958e3986f"
      },
      "source": [
        "import random\n",
        "\n",
        "정답 = random.randint(1, 100)\n",
        "\n",
        "while True:\n",
        "  user = int(input('숫자를 입력해주세요.'))\n",
        "  if user < 정답:\n",
        "      print('Up')\n",
        "  elif user > 정답:\n",
        "      print('Down')\n",
        "  else:\n",
        "      print('정답!')\n",
        "      break"
      ],
      "execution_count": null,
      "outputs": [
        {
          "output_type": "stream",
          "text": [
            "숫자를 입력해주세요.10\n",
            "up\n",
            "숫자를 입력해주세요.14\n",
            "up\n",
            "숫자를 입력해주세요.40\n",
            "up\n",
            "숫자를 입력해주세요.70\n",
            "down\n",
            "숫자를 입력해주세요.55\n",
            "down\n",
            "숫자를 입력해주세요.46\n",
            "up\n",
            "숫자를 입력해주세요.48\n",
            "up\n",
            "숫자를 입력해주세요.49\n",
            "up\n",
            "숫자를 입력해주세요.50\n",
            "up\n",
            "숫자를 입력해주세요.53\n",
            "down\n",
            "숫자를 입력해주세요.52\n",
            "down\n",
            "숫자를 입력해주세요.52\n",
            "down\n",
            "숫자를 입력해주세요.51\n",
            "정답!\n"
          ],
          "name": "stdout"
        }
      ]
    },
    {
      "cell_type": "markdown",
      "metadata": {
        "id": "xAsHm8bd-Y2o"
      },
      "source": [
        "## 반복문"
      ]
    },
    {
      "cell_type": "code",
      "metadata": {
        "colab": {
          "base_uri": "https://localhost:8080/"
        },
        "id": "6j9meZZv-a9P",
        "outputId": "7665f885-724c-481a-bbc3-b6b660fcddbb"
      },
      "source": [
        "for i in range(10):\n",
        "    print(i)"
      ],
      "execution_count": null,
      "outputs": [
        {
          "output_type": "stream",
          "text": [
            "0\n",
            "1\n",
            "2\n",
            "3\n",
            "4\n",
            "5\n",
            "6\n",
            "7\n",
            "8\n",
            "9\n"
          ],
          "name": "stdout"
        }
      ]
    },
    {
      "cell_type": "code",
      "metadata": {
        "colab": {
          "base_uri": "https://localhost:8080/"
        },
        "id": "9r1VkBaEButQ",
        "outputId": "3080f7ab-bcf7-45e4-dbfb-d8cccaf1d07d"
      },
      "source": [
        "list(range(10))\n",
        "list(range(0, 10,2)) # start, stop, step\n",
        "list(range(5, 10)) #start, stop\n",
        "list(range(10, 5, -1)) #start, stop, step\n"
      ],
      "execution_count": null,
      "outputs": [
        {
          "output_type": "execute_result",
          "data": {
            "text/plain": [
              "[10, 9, 8, 7, 6]"
            ]
          },
          "metadata": {
            "tags": []
          },
          "execution_count": 54
        }
      ]
    },
    {
      "cell_type": "code",
      "metadata": {
        "colab": {
          "base_uri": "https://localhost:8080/"
        },
        "id": "k14ESGQSCN7X",
        "outputId": "a35ff0f8-37cd-42e3-91c0-4b7079e9118e"
      },
      "source": [
        "s = 0\n",
        "for i in range(101):\n",
        "    s = s +i # s += 1\n",
        "\n",
        "print(s)"
      ],
      "execution_count": null,
      "outputs": [
        {
          "output_type": "stream",
          "text": [
            "5050\n"
          ],
          "name": "stdout"
        }
      ]
    },
    {
      "cell_type": "code",
      "metadata": {
        "id": "oaR7CUNYCphc",
        "colab": {
          "base_uri": "https://localhost:8080/"
        },
        "outputId": "87d1150a-8d5c-417c-db09-26f6302b134a"
      },
      "source": [
        "s = 0\n",
        "for i in range(0, 101, 2):\n",
        "    s = s +i # s += 1\n",
        "\n",
        "print(s)"
      ],
      "execution_count": null,
      "outputs": [
        {
          "output_type": "stream",
          "text": [
            "2550\n"
          ],
          "name": "stdout"
        }
      ]
    },
    {
      "cell_type": "code",
      "metadata": {
        "colab": {
          "base_uri": "https://localhost:8080/"
        },
        "id": "Z2wyf2RkDmPe",
        "outputId": "7f219d8d-4f92-446b-fcea-5887ff5726e2"
      },
      "source": [
        "sum(range(0, 101, 2))\n",
        "\n",
        "print(s)"
      ],
      "execution_count": null,
      "outputs": [
        {
          "output_type": "stream",
          "text": [
            "2550\n"
          ],
          "name": "stdout"
        }
      ]
    },
    {
      "cell_type": "code",
      "metadata": {
        "colab": {
          "base_uri": "https://localhost:8080/"
        },
        "id": "b_hFUCFDDzBV",
        "outputId": "8ecbb8f9-2093-47d8-dff1-52885cbcc6c5"
      },
      "source": [
        "s = 0\n",
        "for i in range(0, 101, 2):\n",
        "    if i % 2 ==0:\n",
        "        s = s +i # s += 1\n",
        "\n",
        "print(s)"
      ],
      "execution_count": null,
      "outputs": [
        {
          "output_type": "stream",
          "text": [
            "2550\n"
          ],
          "name": "stdout"
        }
      ]
    },
    {
      "cell_type": "code",
      "metadata": {
        "colab": {
          "base_uri": "https://localhost:8080/"
        },
        "id": "L-gWLKedEpg1",
        "outputId": "e9a8adb5-0f5b-4cf2-d1ee-543bbe89cfe7"
      },
      "source": [
        "for i in range(1, 10):\n",
        "    print(f'{2} X {i} = { 2 * i }')\n",
        "for i in range(1, 10):\n",
        "    print(f'{4} X {i} = { 4 * i }')\n",
        "for i in range(1, 10):\n",
        "    print(f'{9} X {i} = { 9 * i }')"
      ],
      "execution_count": null,
      "outputs": [
        {
          "output_type": "stream",
          "text": [
            "2 X 1 = 2\n",
            "2 X 2 = 4\n",
            "2 X 3 = 6\n",
            "2 X 4 = 8\n",
            "2 X 5 = 10\n",
            "2 X 6 = 12\n",
            "2 X 7 = 14\n",
            "2 X 8 = 16\n",
            "2 X 9 = 18\n",
            "4 X 1 = 4\n",
            "4 X 2 = 8\n",
            "4 X 3 = 12\n",
            "4 X 4 = 16\n",
            "4 X 5 = 20\n",
            "4 X 6 = 24\n",
            "4 X 7 = 28\n",
            "4 X 8 = 32\n",
            "4 X 9 = 36\n",
            "9 X 1 = 9\n",
            "9 X 2 = 18\n",
            "9 X 3 = 27\n",
            "9 X 4 = 36\n",
            "9 X 5 = 45\n",
            "9 X 6 = 54\n",
            "9 X 7 = 63\n",
            "9 X 8 = 72\n",
            "9 X 9 = 81\n"
          ],
          "name": "stdout"
        }
      ]
    },
    {
      "cell_type": "code",
      "metadata": {
        "colab": {
          "base_uri": "https://localhost:8080/"
        },
        "id": "El8nM90EFyTV",
        "outputId": "8fb1aee8-b353-48d4-f95d-3728b6bb33d1"
      },
      "source": [
        "for 단 in range(2, 10):\n",
        "    for i in range(1, 10):\n",
        "        print(f'{단} X {i} = { 단 * i }')"
      ],
      "execution_count": null,
      "outputs": [
        {
          "output_type": "stream",
          "text": [
            "2 X 1 = 2\n",
            "2 X 2 = 4\n",
            "2 X 3 = 6\n",
            "2 X 4 = 8\n",
            "2 X 5 = 10\n",
            "2 X 6 = 12\n",
            "2 X 7 = 14\n",
            "2 X 8 = 16\n",
            "2 X 9 = 18\n",
            "3 X 1 = 3\n",
            "3 X 2 = 6\n",
            "3 X 3 = 9\n",
            "3 X 4 = 12\n",
            "3 X 5 = 15\n",
            "3 X 6 = 18\n",
            "3 X 7 = 21\n",
            "3 X 8 = 24\n",
            "3 X 9 = 27\n",
            "4 X 1 = 4\n",
            "4 X 2 = 8\n",
            "4 X 3 = 12\n",
            "4 X 4 = 16\n",
            "4 X 5 = 20\n",
            "4 X 6 = 24\n",
            "4 X 7 = 28\n",
            "4 X 8 = 32\n",
            "4 X 9 = 36\n",
            "5 X 1 = 5\n",
            "5 X 2 = 10\n",
            "5 X 3 = 15\n",
            "5 X 4 = 20\n",
            "5 X 5 = 25\n",
            "5 X 6 = 30\n",
            "5 X 7 = 35\n",
            "5 X 8 = 40\n",
            "5 X 9 = 45\n",
            "6 X 1 = 6\n",
            "6 X 2 = 12\n",
            "6 X 3 = 18\n",
            "6 X 4 = 24\n",
            "6 X 5 = 30\n",
            "6 X 6 = 36\n",
            "6 X 7 = 42\n",
            "6 X 8 = 48\n",
            "6 X 9 = 54\n",
            "7 X 1 = 7\n",
            "7 X 2 = 14\n",
            "7 X 3 = 21\n",
            "7 X 4 = 28\n",
            "7 X 5 = 35\n",
            "7 X 6 = 42\n",
            "7 X 7 = 49\n",
            "7 X 8 = 56\n",
            "7 X 9 = 63\n",
            "8 X 1 = 8\n",
            "8 X 2 = 16\n",
            "8 X 3 = 24\n",
            "8 X 4 = 32\n",
            "8 X 5 = 40\n",
            "8 X 6 = 48\n",
            "8 X 7 = 56\n",
            "8 X 8 = 64\n",
            "8 X 9 = 72\n",
            "9 X 1 = 9\n",
            "9 X 2 = 18\n",
            "9 X 3 = 27\n",
            "9 X 4 = 36\n",
            "9 X 5 = 45\n",
            "9 X 6 = 54\n",
            "9 X 7 = 63\n",
            "9 X 8 = 72\n",
            "9 X 9 = 81\n"
          ],
          "name": "stdout"
        }
      ]
    },
    {
      "cell_type": "code",
      "metadata": {
        "colab": {
          "base_uri": "https://localhost:8080/"
        },
        "id": "5zNrIYQXGTWd",
        "outputId": "95a3ba9f-a1b7-4f99-b34c-c990a1186107"
      },
      "source": [
        "\n",
        "x = 0\n",
        "while x < 10:\n",
        "    print(x)\n",
        "    x += 1"
      ],
      "execution_count": null,
      "outputs": [
        {
          "output_type": "stream",
          "text": [
            "0\n",
            "1\n",
            "2\n",
            "3\n",
            "4\n",
            "5\n",
            "6\n",
            "7\n",
            "8\n",
            "9\n"
          ],
          "name": "stdout"
        }
      ]
    },
    {
      "cell_type": "code",
      "metadata": {
        "colab": {
          "base_uri": "https://localhost:8080/"
        },
        "id": "F1yco2kIGjid",
        "outputId": "019e5717-bd79-4187-fffe-5ce7afb09179"
      },
      "source": [
        "x = 1\n",
        "while x < 10:\n",
        "    print(f'{2} X {x} = { 2 * x }')\n",
        "    x += 1\n"
      ],
      "execution_count": null,
      "outputs": [
        {
          "output_type": "stream",
          "text": [
            "2 X 1 = 2\n",
            "2 X 2 = 4\n",
            "2 X 3 = 6\n",
            "2 X 4 = 8\n",
            "2 X 5 = 10\n",
            "2 X 6 = 12\n",
            "2 X 7 = 14\n",
            "2 X 8 = 16\n",
            "2 X 9 = 18\n"
          ],
          "name": "stdout"
        }
      ]
    },
    {
      "cell_type": "markdown",
      "metadata": {
        "id": "u9OmNDkeH-RI"
      },
      "source": [
        "## 모듈"
      ]
    },
    {
      "cell_type": "code",
      "metadata": {
        "id": "bkDkq631H_0c"
      },
      "source": [
        "# filename = test.py\n",
        "# name = 'leehojun'\n",
        "# age = 10"
      ],
      "execution_count": null,
      "outputs": []
    },
    {
      "cell_type": "code",
      "metadata": {
        "colab": {
          "base_uri": "https://localhost:8080/"
        },
        "id": "7i9T6NBMJiEw",
        "outputId": "fb090696-dd79-4518-d2c7-87dc3e6c21fd"
      },
      "source": [
        "# import test\n",
        "import test as t\n",
        "\n",
        "print(t.name)\n",
        "print(t.age)"
      ],
      "execution_count": null,
      "outputs": [
        {
          "output_type": "stream",
          "text": [
            "leehojun\n",
            "10\n"
          ],
          "name": "stdout"
        }
      ]
    },
    {
      "cell_type": "code",
      "metadata": {
        "colab": {
          "base_uri": "https://localhost:8080/"
        },
        "id": "ExByTLc4KQGM",
        "outputId": "bef30aea-331e-4339-ca8d-dc1126b8fae7"
      },
      "source": [
        "from test import name, age\n",
        "\n",
        "print(name)\n",
        "print(age)"
      ],
      "execution_count": null,
      "outputs": [
        {
          "output_type": "stream",
          "text": [
            "leehojun\n",
            "10\n"
          ],
          "name": "stdout"
        }
      ]
    },
    {
      "cell_type": "markdown",
      "metadata": {
        "id": "VCH-5yab7o9H"
      },
      "source": [
        "## 함수\n",
        "\n",
        "1. 재사용성을 높일 수 있다.\n",
        "2. 코드의 구조를 파악하기 쉽다.\n",
        "3. 유지보수를 쉽게 할 수 있다."
      ]
    },
    {
      "cell_type": "code",
      "metadata": {
        "id": "kLtY4KUw7rgH"
      },
      "source": [
        "def 더하기(x, y):\n",
        "    return x + y\n",
        "\n",
        "    더하기(10, 20)"
      ],
      "execution_count": null,
      "outputs": []
    },
    {
      "cell_type": "code",
      "metadata": {
        "colab": {
          "base_uri": "https://localhost:8080/"
        },
        "id": "2O8IglPx8Hc1",
        "outputId": "6c79f508-bcb5-49e9-f964-e3e6729d0915"
      },
      "source": [
        "def 원의넓이(r):\n",
        "    return(r**2) * 3.14\n",
        "  \n",
        "print(원의넓이(10) + 100)\n",
        "print(원의넓이(10) + 50)"
      ],
      "execution_count": null,
      "outputs": [
        {
          "output_type": "stream",
          "text": [
            "414.0\n",
            "364.0\n"
          ],
          "name": "stdout"
        }
      ]
    },
    {
      "cell_type": "code",
      "metadata": {
        "colab": {
          "base_uri": "https://localhost:8080/"
        },
        "id": "7uEf4lI_8c72",
        "outputId": "e41ca7a2-92d6-4058-a019-54867aacd293"
      },
      "source": [
        "점수 = [10, 20, 30, 40]\n",
        "def 평균(반점수):\n",
        "    s = 0\n",
        "    for i in 반점수:\n",
        "        s += i\n",
        "    return s / len(반점수)\n",
        "\n",
        "print(평균(점수))\n",
        "print(평균(점수) + 5)"
      ],
      "execution_count": null,
      "outputs": [
        {
          "output_type": "stream",
          "text": [
            "25.0\n",
            "30.0\n"
          ],
          "name": "stdout"
        }
      ]
    },
    {
      "cell_type": "markdown",
      "metadata": {
        "id": "-Hgo5DI2K6sK"
      },
      "source": [
        " ## 파일 입출력"
      ]
    },
    {
      "cell_type": "code",
      "metadata": {
        "id": "1PbivpjCLAPF"
      },
      "source": [
        "f = open(\"구구단.txt\", 'w') # r(읽음), w(작성, 덮어씀), a(추가)\n",
        "data = ''\n",
        "for 단 in range(2, 10):\n",
        "    for i in range(1, 10):\n",
        "        data += f'{단} X {i} = {단 * i}\\n'\n",
        "f.write(data)\n",
        "f.close()"
      ],
      "execution_count": null,
      "outputs": []
    },
    {
      "cell_type": "markdown",
      "metadata": {
        "id": "1MLB4wto31JI"
      },
      "source": [
        "## 클래스\n",
        "\n",
        "* 현실세계의 개념을 Code로 옮겨놓은 것\n",
        "* 클래스의 첫 문자열은 대문자로 합니다."
      ]
    },
    {
      "cell_type": "code",
      "metadata": {
        "id": "61s791PZ35An"
      },
      "source": [
        "class Car :\n",
        "  # 클래스 변수 또는 맴버\n",
        "  maxspeed = 300\n",
        "  maxspeople = 5\n",
        "\n",
        "  def start(self):\n",
        "      print('출발하였습니다.')\n",
        "  # 메서드\n",
        "  def stop(self):\n",
        "      print('멈췄습니다.')\n"
      ],
      "execution_count": null,
      "outputs": []
    },
    {
      "cell_type": "code",
      "metadata": {
        "colab": {
          "base_uri": "https://localhost:8080/",
          "height": 244
        },
        "id": "y2m2kZto5VW3",
        "outputId": "5aecc611-ca8c-43d9-9352-7ebb5f138a81"
      },
      "source": [
        "audi = Car() # audi라는 인스턴스 생성\n",
        "bmw = Car() # bmw라는 인스턴스 생성\n",
        "\n",
        "audi.start()\n",
        "print(audi.maxpeople)\n",
        "print(Car.maxspeed) # 이렇게 실행하시면 안됩니다."
      ],
      "execution_count": null,
      "outputs": [
        {
          "output_type": "stream",
          "text": [
            "출발하였습니다.\n"
          ],
          "name": "stdout"
        },
        {
          "output_type": "error",
          "ename": "AttributeError",
          "evalue": "ignored",
          "traceback": [
            "\u001b[0;31m---------------------------------------------------------------------------\u001b[0m",
            "\u001b[0;31mAttributeError\u001b[0m                            Traceback (most recent call last)",
            "\u001b[0;32m<ipython-input-5-9392d9e669c2>\u001b[0m in \u001b[0;36m<module>\u001b[0;34m()\u001b[0m\n\u001b[1;32m      3\u001b[0m \u001b[0;34m\u001b[0m\u001b[0m\n\u001b[1;32m      4\u001b[0m \u001b[0maudi\u001b[0m\u001b[0;34m.\u001b[0m\u001b[0mstart\u001b[0m\u001b[0;34m(\u001b[0m\u001b[0;34m)\u001b[0m\u001b[0;34m\u001b[0m\u001b[0;34m\u001b[0m\u001b[0m\n\u001b[0;32m----> 5\u001b[0;31m \u001b[0mprint\u001b[0m\u001b[0;34m(\u001b[0m\u001b[0maudi\u001b[0m \u001b[0;34m.\u001b[0m\u001b[0mmaxpeople\u001b[0m\u001b[0;34m)\u001b[0m\u001b[0;34m\u001b[0m\u001b[0;34m\u001b[0m\u001b[0m\n\u001b[0m\u001b[1;32m      6\u001b[0m \u001b[0mprint\u001b[0m\u001b[0;34m(\u001b[0m\u001b[0mCar\u001b[0m\u001b[0;34m.\u001b[0m \u001b[0mmaxspeed\u001b[0m\u001b[0;34m)\u001b[0m \u001b[0;31m# 이렇게 실행하시면 안됩니다.\u001b[0m\u001b[0;34m\u001b[0m\u001b[0;34m\u001b[0m\u001b[0m\n",
            "\u001b[0;31mAttributeError\u001b[0m: 'Car' object has no attribute 'maxpeople'"
          ]
        }
      ]
    },
    {
      "cell_type": "code",
      "metadata": {
        "colab": {
          "base_uri": "https://localhost:8080/"
        },
        "id": "7d2977YR6kMG",
        "outputId": "56dca407-dfe8-40c9-a118-097d6f65d638"
      },
      "source": [
        "dir(audi)"
      ],
      "execution_count": null,
      "outputs": [
        {
          "output_type": "execute_result",
          "data": {
            "text/plain": [
              "['__class__',\n",
              " '__delattr__',\n",
              " '__dict__',\n",
              " '__dir__',\n",
              " '__doc__',\n",
              " '__eq__',\n",
              " '__format__',\n",
              " '__ge__',\n",
              " '__getattribute__',\n",
              " '__gt__',\n",
              " '__hash__',\n",
              " '__init__',\n",
              " '__init_subclass__',\n",
              " '__le__',\n",
              " '__lt__',\n",
              " '__module__',\n",
              " '__ne__',\n",
              " '__new__',\n",
              " '__reduce__',\n",
              " '__reduce_ex__',\n",
              " '__repr__',\n",
              " '__setattr__',\n",
              " '__sizeof__',\n",
              " '__str__',\n",
              " '__subclasshook__',\n",
              " '__weakref__',\n",
              " 'maxspeed',\n",
              " 'maxspeople',\n",
              " 'start',\n",
              " 'stop']"
            ]
          },
          "metadata": {
            "tags": []
          },
          "execution_count": 6
        }
      ]
    },
    {
      "cell_type": "code",
      "metadata": {
        "colab": {
          "base_uri": "https://localhost:8080/"
        },
        "id": "S_Akr8-z6vD-",
        "outputId": "e3947458-ef71-4db5-8467-1c5050001710"
      },
      "source": [
        "class 전기차(Car):\n",
        "    배터리 = 100\n",
        "    배터리에_따라_갈_수_있는_거리 = 300\n",
        "\n",
        "전기차audi = 전기차()\n",
        "전기차audi.start()"
      ],
      "execution_count": null,
      "outputs": [
        {
          "output_type": "stream",
          "text": [
            "출발하였습니다.\n"
          ],
          "name": "stdout"
        }
      ]
    }
  ]
}